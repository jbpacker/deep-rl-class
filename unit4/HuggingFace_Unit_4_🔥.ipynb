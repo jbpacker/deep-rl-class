{
  "nbformat": 4,
  "nbformat_minor": 0,
  "metadata": {
    "colab": {
      "name": "HuggingFace Unit 4 🔥.ipynb",
      "provenance": [],
      "authorship_tag": "ABX9TyOIJFUeQTPo+TgPtU9uN1I7",
      "include_colab_link": true
    },
    "kernelspec": {
      "name": "python3",
      "display_name": "Python 3"
    },
    "language_info": {
      "name": "python"
    },
    "accelerator": "GPU",
    "gpuClass": "standard",
    "widgets": {
      "application/vnd.jupyter.widget-state+json": {
        "77f5127437bc4533a4106cad2e7c66e4": {
          "model_module": "@jupyter-widgets/controls",
          "model_name": "VBoxModel",
          "model_module_version": "1.5.0",
          "state": {
            "_dom_classes": [],
            "_model_module": "@jupyter-widgets/controls",
            "_model_module_version": "1.5.0",
            "_model_name": "VBoxModel",
            "_view_count": null,
            "_view_module": "@jupyter-widgets/controls",
            "_view_module_version": "1.5.0",
            "_view_name": "VBoxView",
            "box_style": "",
            "children": [
              "IPY_MODEL_8f838e2096274394843a959d48521df4",
              "IPY_MODEL_aa92a9a78b4140a08fb7e16bcbf78acd",
              "IPY_MODEL_2f005049c6d444758e03c9da2c27e8a2",
              "IPY_MODEL_2cc42adda5544167a1db798dd5feb9d9"
            ],
            "layout": "IPY_MODEL_e23a2cff6a8041b6986a6ecb9177ad36"
          }
        },
        "8f838e2096274394843a959d48521df4": {
          "model_module": "@jupyter-widgets/controls",
          "model_name": "HTMLModel",
          "model_module_version": "1.5.0",
          "state": {
            "_dom_classes": [],
            "_model_module": "@jupyter-widgets/controls",
            "_model_module_version": "1.5.0",
            "_model_name": "HTMLModel",
            "_view_count": null,
            "_view_module": "@jupyter-widgets/controls",
            "_view_module_version": "1.5.0",
            "_view_name": "HTMLView",
            "description": "",
            "description_tooltip": null,
            "layout": "IPY_MODEL_b664a0f57da5453599a8835b061c7239",
            "placeholder": "​",
            "style": "IPY_MODEL_cf819ae04cd44295895eb58881e3b99b",
            "value": "<center> <img\nsrc=https://huggingface.co/front/assets/huggingface_logo-noborder.svg\nalt='Hugging Face'> <br> Copy a token from <a\nhref=\"https://huggingface.co/settings/tokens\" target=\"_blank\">your Hugging Face\ntokens page</a> and paste it below. <br> Immediately click login after copying\nyour token or it might be stored in plain text in this notebook file. </center>"
          }
        },
        "aa92a9a78b4140a08fb7e16bcbf78acd": {
          "model_module": "@jupyter-widgets/controls",
          "model_name": "PasswordModel",
          "model_module_version": "1.5.0",
          "state": {
            "_dom_classes": [],
            "_model_module": "@jupyter-widgets/controls",
            "_model_module_version": "1.5.0",
            "_model_name": "PasswordModel",
            "_view_count": null,
            "_view_module": "@jupyter-widgets/controls",
            "_view_module_version": "1.5.0",
            "_view_name": "PasswordView",
            "continuous_update": true,
            "description": "Token:",
            "description_tooltip": null,
            "disabled": false,
            "layout": "IPY_MODEL_c662b9b01437486c8d7559b4137f48c6",
            "placeholder": "​",
            "style": "IPY_MODEL_0bc813cd79154e57aae959b13ff8e669",
            "value": ""
          }
        },
        "2f005049c6d444758e03c9da2c27e8a2": {
          "model_module": "@jupyter-widgets/controls",
          "model_name": "ButtonModel",
          "model_module_version": "1.5.0",
          "state": {
            "_dom_classes": [],
            "_model_module": "@jupyter-widgets/controls",
            "_model_module_version": "1.5.0",
            "_model_name": "ButtonModel",
            "_view_count": null,
            "_view_module": "@jupyter-widgets/controls",
            "_view_module_version": "1.5.0",
            "_view_name": "ButtonView",
            "button_style": "",
            "description": "Login",
            "disabled": false,
            "icon": "",
            "layout": "IPY_MODEL_2a629bc0a39746dd8ce1ef199c964293",
            "style": "IPY_MODEL_95def42b54bc47fb8194238ae6b43414",
            "tooltip": ""
          }
        },
        "2cc42adda5544167a1db798dd5feb9d9": {
          "model_module": "@jupyter-widgets/controls",
          "model_name": "HTMLModel",
          "model_module_version": "1.5.0",
          "state": {
            "_dom_classes": [],
            "_model_module": "@jupyter-widgets/controls",
            "_model_module_version": "1.5.0",
            "_model_name": "HTMLModel",
            "_view_count": null,
            "_view_module": "@jupyter-widgets/controls",
            "_view_module_version": "1.5.0",
            "_view_name": "HTMLView",
            "description": "",
            "description_tooltip": null,
            "layout": "IPY_MODEL_064bac56a6ca4af0ad746af442ec4cfc",
            "placeholder": "​",
            "style": "IPY_MODEL_356e1582e9fe4a12a541604cdd0a59b6",
            "value": "\n<b>Pro Tip:</b> If you don't already have one, you can create a dedicated\n'notebooks' token with 'write' access, that you can then easily reuse for all\nnotebooks. </center>"
          }
        },
        "e23a2cff6a8041b6986a6ecb9177ad36": {
          "model_module": "@jupyter-widgets/base",
          "model_name": "LayoutModel",
          "model_module_version": "1.2.0",
          "state": {
            "_model_module": "@jupyter-widgets/base",
            "_model_module_version": "1.2.0",
            "_model_name": "LayoutModel",
            "_view_count": null,
            "_view_module": "@jupyter-widgets/base",
            "_view_module_version": "1.2.0",
            "_view_name": "LayoutView",
            "align_content": null,
            "align_items": "center",
            "align_self": null,
            "border": null,
            "bottom": null,
            "display": "flex",
            "flex": null,
            "flex_flow": "column",
            "grid_area": null,
            "grid_auto_columns": null,
            "grid_auto_flow": null,
            "grid_auto_rows": null,
            "grid_column": null,
            "grid_gap": null,
            "grid_row": null,
            "grid_template_areas": null,
            "grid_template_columns": null,
            "grid_template_rows": null,
            "height": null,
            "justify_content": null,
            "justify_items": null,
            "left": null,
            "margin": null,
            "max_height": null,
            "max_width": null,
            "min_height": null,
            "min_width": null,
            "object_fit": null,
            "object_position": null,
            "order": null,
            "overflow": null,
            "overflow_x": null,
            "overflow_y": null,
            "padding": null,
            "right": null,
            "top": null,
            "visibility": null,
            "width": "50%"
          }
        },
        "b664a0f57da5453599a8835b061c7239": {
          "model_module": "@jupyter-widgets/base",
          "model_name": "LayoutModel",
          "model_module_version": "1.2.0",
          "state": {
            "_model_module": "@jupyter-widgets/base",
            "_model_module_version": "1.2.0",
            "_model_name": "LayoutModel",
            "_view_count": null,
            "_view_module": "@jupyter-widgets/base",
            "_view_module_version": "1.2.0",
            "_view_name": "LayoutView",
            "align_content": null,
            "align_items": null,
            "align_self": null,
            "border": null,
            "bottom": null,
            "display": null,
            "flex": null,
            "flex_flow": null,
            "grid_area": null,
            "grid_auto_columns": null,
            "grid_auto_flow": null,
            "grid_auto_rows": null,
            "grid_column": null,
            "grid_gap": null,
            "grid_row": null,
            "grid_template_areas": null,
            "grid_template_columns": null,
            "grid_template_rows": null,
            "height": null,
            "justify_content": null,
            "justify_items": null,
            "left": null,
            "margin": null,
            "max_height": null,
            "max_width": null,
            "min_height": null,
            "min_width": null,
            "object_fit": null,
            "object_position": null,
            "order": null,
            "overflow": null,
            "overflow_x": null,
            "overflow_y": null,
            "padding": null,
            "right": null,
            "top": null,
            "visibility": null,
            "width": null
          }
        },
        "cf819ae04cd44295895eb58881e3b99b": {
          "model_module": "@jupyter-widgets/controls",
          "model_name": "DescriptionStyleModel",
          "model_module_version": "1.5.0",
          "state": {
            "_model_module": "@jupyter-widgets/controls",
            "_model_module_version": "1.5.0",
            "_model_name": "DescriptionStyleModel",
            "_view_count": null,
            "_view_module": "@jupyter-widgets/base",
            "_view_module_version": "1.2.0",
            "_view_name": "StyleView",
            "description_width": ""
          }
        },
        "c662b9b01437486c8d7559b4137f48c6": {
          "model_module": "@jupyter-widgets/base",
          "model_name": "LayoutModel",
          "model_module_version": "1.2.0",
          "state": {
            "_model_module": "@jupyter-widgets/base",
            "_model_module_version": "1.2.0",
            "_model_name": "LayoutModel",
            "_view_count": null,
            "_view_module": "@jupyter-widgets/base",
            "_view_module_version": "1.2.0",
            "_view_name": "LayoutView",
            "align_content": null,
            "align_items": null,
            "align_self": null,
            "border": null,
            "bottom": null,
            "display": null,
            "flex": null,
            "flex_flow": null,
            "grid_area": null,
            "grid_auto_columns": null,
            "grid_auto_flow": null,
            "grid_auto_rows": null,
            "grid_column": null,
            "grid_gap": null,
            "grid_row": null,
            "grid_template_areas": null,
            "grid_template_columns": null,
            "grid_template_rows": null,
            "height": null,
            "justify_content": null,
            "justify_items": null,
            "left": null,
            "margin": null,
            "max_height": null,
            "max_width": null,
            "min_height": null,
            "min_width": null,
            "object_fit": null,
            "object_position": null,
            "order": null,
            "overflow": null,
            "overflow_x": null,
            "overflow_y": null,
            "padding": null,
            "right": null,
            "top": null,
            "visibility": null,
            "width": null
          }
        },
        "0bc813cd79154e57aae959b13ff8e669": {
          "model_module": "@jupyter-widgets/controls",
          "model_name": "DescriptionStyleModel",
          "model_module_version": "1.5.0",
          "state": {
            "_model_module": "@jupyter-widgets/controls",
            "_model_module_version": "1.5.0",
            "_model_name": "DescriptionStyleModel",
            "_view_count": null,
            "_view_module": "@jupyter-widgets/base",
            "_view_module_version": "1.2.0",
            "_view_name": "StyleView",
            "description_width": ""
          }
        },
        "2a629bc0a39746dd8ce1ef199c964293": {
          "model_module": "@jupyter-widgets/base",
          "model_name": "LayoutModel",
          "model_module_version": "1.2.0",
          "state": {
            "_model_module": "@jupyter-widgets/base",
            "_model_module_version": "1.2.0",
            "_model_name": "LayoutModel",
            "_view_count": null,
            "_view_module": "@jupyter-widgets/base",
            "_view_module_version": "1.2.0",
            "_view_name": "LayoutView",
            "align_content": null,
            "align_items": null,
            "align_self": null,
            "border": null,
            "bottom": null,
            "display": null,
            "flex": null,
            "flex_flow": null,
            "grid_area": null,
            "grid_auto_columns": null,
            "grid_auto_flow": null,
            "grid_auto_rows": null,
            "grid_column": null,
            "grid_gap": null,
            "grid_row": null,
            "grid_template_areas": null,
            "grid_template_columns": null,
            "grid_template_rows": null,
            "height": null,
            "justify_content": null,
            "justify_items": null,
            "left": null,
            "margin": null,
            "max_height": null,
            "max_width": null,
            "min_height": null,
            "min_width": null,
            "object_fit": null,
            "object_position": null,
            "order": null,
            "overflow": null,
            "overflow_x": null,
            "overflow_y": null,
            "padding": null,
            "right": null,
            "top": null,
            "visibility": null,
            "width": null
          }
        },
        "95def42b54bc47fb8194238ae6b43414": {
          "model_module": "@jupyter-widgets/controls",
          "model_name": "ButtonStyleModel",
          "model_module_version": "1.5.0",
          "state": {
            "_model_module": "@jupyter-widgets/controls",
            "_model_module_version": "1.5.0",
            "_model_name": "ButtonStyleModel",
            "_view_count": null,
            "_view_module": "@jupyter-widgets/base",
            "_view_module_version": "1.2.0",
            "_view_name": "StyleView",
            "button_color": null,
            "font_weight": ""
          }
        },
        "064bac56a6ca4af0ad746af442ec4cfc": {
          "model_module": "@jupyter-widgets/base",
          "model_name": "LayoutModel",
          "model_module_version": "1.2.0",
          "state": {
            "_model_module": "@jupyter-widgets/base",
            "_model_module_version": "1.2.0",
            "_model_name": "LayoutModel",
            "_view_count": null,
            "_view_module": "@jupyter-widgets/base",
            "_view_module_version": "1.2.0",
            "_view_name": "LayoutView",
            "align_content": null,
            "align_items": null,
            "align_self": null,
            "border": null,
            "bottom": null,
            "display": null,
            "flex": null,
            "flex_flow": null,
            "grid_area": null,
            "grid_auto_columns": null,
            "grid_auto_flow": null,
            "grid_auto_rows": null,
            "grid_column": null,
            "grid_gap": null,
            "grid_row": null,
            "grid_template_areas": null,
            "grid_template_columns": null,
            "grid_template_rows": null,
            "height": null,
            "justify_content": null,
            "justify_items": null,
            "left": null,
            "margin": null,
            "max_height": null,
            "max_width": null,
            "min_height": null,
            "min_width": null,
            "object_fit": null,
            "object_position": null,
            "order": null,
            "overflow": null,
            "overflow_x": null,
            "overflow_y": null,
            "padding": null,
            "right": null,
            "top": null,
            "visibility": null,
            "width": null
          }
        },
        "356e1582e9fe4a12a541604cdd0a59b6": {
          "model_module": "@jupyter-widgets/controls",
          "model_name": "DescriptionStyleModel",
          "model_module_version": "1.5.0",
          "state": {
            "_model_module": "@jupyter-widgets/controls",
            "_model_module_version": "1.5.0",
            "_model_name": "DescriptionStyleModel",
            "_view_count": null,
            "_view_module": "@jupyter-widgets/base",
            "_view_module_version": "1.2.0",
            "_view_name": "StyleView",
            "description_width": ""
          }
        }
      }
    }
  },
  "cells": [
    {
      "cell_type": "markdown",
      "metadata": {
        "id": "view-in-github",
        "colab_type": "text"
      },
      "source": [
        "<a href=\"https://colab.research.google.com/github/jbpacker/deep-rl-class/blob/main/unit4/HuggingFace_Unit_4_%F0%9F%94%A5.ipynb\" target=\"_parent\"><img src=\"https://colab.research.google.com/assets/colab-badge.svg\" alt=\"Open In Colab\"/></a>"
      ]
    },
    {
      "cell_type": "markdown",
      "source": [
        "# Unit 4: Let's learn about Unity ML-Agents with Hugging Face 🤗\n",
        "\n",
        "original colab can be found here: https://colab.research.google.com/github/huggingface/deep-rl-class/blob/main/unit4/unit4.ipynb#scrollTo=C9Ls6_6eOKiA"
      ],
      "metadata": {
        "id": "DodtFJWU47xs"
      }
    },
    {
      "cell_type": "markdown",
      "source": [
        "## Prerequisites 🏗️"
      ],
      "metadata": {
        "id": "yYk-BXWh5BB3"
      }
    },
    {
      "cell_type": "markdown",
      "source": [
        "### Step 1: Clone the repository and install the dependencies 🔽\n"
      ],
      "metadata": {
        "id": "X-vxkAAk5C60"
      }
    },
    {
      "cell_type": "code",
      "source": [
        "%%capture\n",
        "# Clone the repository (can take 1min)\n",
        "!git clone https://github.com/huggingface/ml-agents/"
      ],
      "metadata": {
        "id": "55Bzu8Fg5FjV"
      },
      "execution_count": 1,
      "outputs": []
    },
    {
      "cell_type": "code",
      "source": [
        "%%capture\n",
        "# Go inside the repository and install the package\n",
        "%cd ml-agents\n",
        "!pip3 install -e ./ml-agents-envs\n",
        "!pip3 install -e ./ml-agents"
      ],
      "metadata": {
        "id": "p2xs53_z5SVQ"
      },
      "execution_count": 2,
      "outputs": []
    },
    {
      "cell_type": "code",
      "source": [
        "!mkdir ./trained-envs-executables\n",
        "!mkdir ./trained-envs-executables/linux"
      ],
      "metadata": {
        "id": "r7RNy58V5Ty4"
      },
      "execution_count": 3,
      "outputs": []
    },
    {
      "cell_type": "markdown",
      "source": [
        "### Step 2: Download and move the environment zip file in `./\n"
      ],
      "metadata": {
        "id": "F5BZYZ7b5Cuu"
      }
    },
    {
      "cell_type": "code",
      "source": [
        "!wget --load-cookies /tmp/cookies.txt \"https://docs.google.com/uc?export=download&confirm=$(wget --quiet --save-cookies /tmp/cookies.txt --keep-session-cookies --no-check-certificate 'https://docs.google.com/uc?export=download&id=1UiFNdKlsH0NTu32xV-giYUEVKV4-vc7H' -O- | sed -rn 's/.*confirm=([0-9A-Za-z_]+).*/\\1\\n/p')&id=1UiFNdKlsH0NTu32xV-giYUEVKV4-vc7H\" -O ./trained-envs-executables/linux/Pyramids.zip && rm -rf /tmp/cookies.txt"
      ],
      "metadata": {
        "id": "9hu5pNAn5Cb_"
      },
      "execution_count": null,
      "outputs": []
    },
    {
      "cell_type": "code",
      "execution_count": 5,
      "metadata": {
        "id": "5CyGbWpU4saV"
      },
      "outputs": [],
      "source": [
        "%%capture\n",
        "!unzip -d ./trained-envs-executables/linux/ ./trained-envs-executables/linux/Pyramids.zip"
      ]
    },
    {
      "cell_type": "markdown",
      "source": [
        "make sure it's accessible"
      ],
      "metadata": {
        "id": "AbTfe7xT5izo"
      }
    },
    {
      "cell_type": "code",
      "source": [
        "!chmod -R 755 ./trained-envs-executables/linux/Pyramids/Pyramids"
      ],
      "metadata": {
        "id": "kAmsP_sv5iXw"
      },
      "execution_count": 6,
      "outputs": []
    },
    {
      "cell_type": "markdown",
      "source": [
        "### Step 3: Modify the PyramidsRND config file\n",
        "\n",
        "Click here to open the config.yaml: /content/ml-agents/config/ppo/PyramidsRND.yaml\n",
        "Modify the max_steps to 500,000\n",
        "\n",
        "docs on .yaml: https://github.com/Unity-Technologies/ml-agents/blob/main/docs/Training-Configuration-File.md#reward-signals"
      ],
      "metadata": {
        "id": "apwdvJJM5qFX"
      }
    },
    {
      "cell_type": "markdown",
      "source": [
        "## Train our agent\n"
      ],
      "metadata": {
        "id": "SN3lvW_w6xa_"
      }
    },
    {
      "cell_type": "code",
      "source": [
        "!mlagents-learn ./config/ppo/PyramidsRND.yaml --env=./trained-envs-executables/linux/Pyramids/Pyramids --run-id=\"Pyramids Training\" --no-graphics"
      ],
      "metadata": {
        "colab": {
          "base_uri": "https://localhost:8080/"
        },
        "id": "9AjW77Ue61ro",
        "outputId": "6f052319-1ccf-4618-d793-3d761b8a6bff"
      },
      "execution_count": 7,
      "outputs": [
        {
          "output_type": "stream",
          "name": "stdout",
          "text": [
            "\n",
            "            ┐  ╖\n",
            "        ╓╖╬│╡  ││╬╖╖\n",
            "    ╓╖╬│││││┘  ╬│││││╬╖\n",
            " ╖╬│││││╬╜        ╙╬│││││╖╖                               ╗╗╗\n",
            " ╬╬╬╬╖││╦╖        ╖╬││╗╣╣╣╬      ╟╣╣╬    ╟╣╣╣             ╜╜╜  ╟╣╣\n",
            " ╬╬╬╬╬╬╬╬╖│╬╖╖╓╬╪│╓╣╣╣╣╣╣╣╬      ╟╣╣╬    ╟╣╣╣ ╒╣╣╖╗╣╣╣╗   ╣╣╣ ╣╣╣╣╣╣ ╟╣╣╖   ╣╣╣\n",
            " ╬╬╬╬┐  ╙╬╬╬╬│╓╣╣╣╝╜  ╫╣╣╣╬      ╟╣╣╬    ╟╣╣╣ ╟╣╣╣╙ ╙╣╣╣  ╣╣╣ ╙╟╣╣╜╙  ╫╣╣  ╟╣╣\n",
            " ╬╬╬╬┐     ╙╬╬╣╣      ╫╣╣╣╬      ╟╣╣╬    ╟╣╣╣ ╟╣╣╬   ╣╣╣  ╣╣╣  ╟╣╣     ╣╣╣┌╣╣╜\n",
            " ╬╬╬╜       ╬╬╣╣      ╙╝╣╣╬      ╙╣╣╣╗╖╓╗╣╣╣╜ ╟╣╣╬   ╣╣╣  ╣╣╣  ╟╣╣╦╓    ╣╣╣╣╣\n",
            " ╙   ╓╦╖    ╬╬╣╣   ╓╗╗╖            ╙╝╣╣╣╣╝╜   ╘╝╝╜   ╝╝╝  ╝╝╝   ╙╣╣╣    ╟╣╣╣\n",
            "   ╩╬╬╬╬╬╬╦╦╬╬╣╣╗╣╣╣╣╣╣╣╝                                             ╫╣╣╣╣\n",
            "      ╙╬╬╬╬╬╬╬╣╣╣╣╣╣╝╜\n",
            "          ╙╬╬╬╣╣╣╜\n",
            "             ╙\n",
            "        \n",
            " Version information:\n",
            "  ml-agents: 0.29.0.dev0,\n",
            "  ml-agents-envs: 0.29.0.dev0,\n",
            "  Communicator API: 1.5.0,\n",
            "  PyTorch: 1.8.1+cu102\n",
            "E0805 07:32:27.015882004     265 fork_posix.cc:76]           Other threads are currently calling into gRPC, skipping fork() handlers\n",
            "[INFO] Connected to Unity environment with package version 2.2.1-exp.1 and communication version 1.5.0\n",
            "[INFO] Connected new brain: Pyramids?team=0\n",
            "[INFO] Hyperparameters for behavior name Pyramids: \n",
            "\ttrainer_type:\tppo\n",
            "\thyperparameters:\t\n",
            "\t  batch_size:\t128\n",
            "\t  buffer_size:\t2048\n",
            "\t  learning_rate:\t0.0003\n",
            "\t  beta:\t0.01\n",
            "\t  epsilon:\t0.2\n",
            "\t  lambd:\t0.95\n",
            "\t  num_epoch:\t3\n",
            "\t  learning_rate_schedule:\tlinear\n",
            "\t  beta_schedule:\tlinear\n",
            "\t  epsilon_schedule:\tlinear\n",
            "\tnetwork_settings:\t\n",
            "\t  normalize:\tFalse\n",
            "\t  hidden_units:\t512\n",
            "\t  num_layers:\t2\n",
            "\t  vis_encode_type:\tsimple\n",
            "\t  memory:\tNone\n",
            "\t  goal_conditioning_type:\thyper\n",
            "\t  deterministic:\tFalse\n",
            "\treward_signals:\t\n",
            "\t  extrinsic:\t\n",
            "\t    gamma:\t0.99\n",
            "\t    strength:\t1.0\n",
            "\t    network_settings:\t\n",
            "\t      normalize:\tFalse\n",
            "\t      hidden_units:\t128\n",
            "\t      num_layers:\t2\n",
            "\t      vis_encode_type:\tsimple\n",
            "\t      memory:\tNone\n",
            "\t      goal_conditioning_type:\thyper\n",
            "\t      deterministic:\tFalse\n",
            "\t  rnd:\t\n",
            "\t    gamma:\t0.99\n",
            "\t    strength:\t0.01\n",
            "\t    network_settings:\t\n",
            "\t      normalize:\tFalse\n",
            "\t      hidden_units:\t64\n",
            "\t      num_layers:\t3\n",
            "\t      vis_encode_type:\tsimple\n",
            "\t      memory:\tNone\n",
            "\t      goal_conditioning_type:\thyper\n",
            "\t      deterministic:\tFalse\n",
            "\t    learning_rate:\t0.0001\n",
            "\t    encoding_size:\tNone\n",
            "\tinit_path:\tNone\n",
            "\tkeep_checkpoints:\t5\n",
            "\tcheckpoint_interval:\t500000\n",
            "\tmax_steps:\t500000\n",
            "\ttime_horizon:\t128\n",
            "\tsummary_freq:\t30000\n",
            "\tthreaded:\tFalse\n",
            "\tself_play:\tNone\n",
            "\tbehavioral_cloning:\tNone\n",
            "[INFO] Pyramids. Step: 30000. Time Elapsed: 64.648 s. Mean Reward: -1.000. Std of Reward: 0.000. Training.\n",
            "[INFO] Pyramids. Step: 60000. Time Elapsed: 124.095 s. Mean Reward: -0.937. Std of Reward: 0.351. Training.\n",
            "[INFO] Pyramids. Step: 90000. Time Elapsed: 184.451 s. Mean Reward: -1.000. Std of Reward: 0.000. Training.\n",
            "[INFO] Pyramids. Step: 120000. Time Elapsed: 244.126 s. Mean Reward: -0.872. Std of Reward: 0.495. Training.\n",
            "[INFO] Pyramids. Step: 150000. Time Elapsed: 302.620 s. Mean Reward: -0.935. Std of Reward: 0.362. Training.\n",
            "[INFO] Pyramids. Step: 180000. Time Elapsed: 362.744 s. Mean Reward: -0.862. Std of Reward: 0.534. Training.\n",
            "[INFO] Pyramids. Step: 210000. Time Elapsed: 423.107 s. Mean Reward: -1.000. Std of Reward: 0.000. Training.\n",
            "[INFO] Pyramids. Step: 240000. Time Elapsed: 484.991 s. Mean Reward: -1.000. Std of Reward: 0.000. Training.\n",
            "[INFO] Pyramids. Step: 270000. Time Elapsed: 544.805 s. Mean Reward: -0.729. Std of Reward: 0.795. Training.\n",
            "[INFO] Pyramids. Step: 300000. Time Elapsed: 607.225 s. Mean Reward: -0.916. Std of Reward: 0.475. Training.\n",
            "[INFO] Pyramids. Step: 330000. Time Elapsed: 667.771 s. Mean Reward: -0.929. Std of Reward: 0.399. Training.\n",
            "[INFO] Pyramids. Step: 360000. Time Elapsed: 730.965 s. Mean Reward: -0.494. Std of Reward: 0.985. Training.\n",
            "[INFO] Pyramids. Step: 390000. Time Elapsed: 791.403 s. Mean Reward: -0.848. Std of Reward: 0.579. Training.\n",
            "[INFO] Pyramids. Step: 420000. Time Elapsed: 854.101 s. Mean Reward: -0.782. Std of Reward: 0.690. Training.\n",
            "[INFO] Pyramids. Step: 450000. Time Elapsed: 913.638 s. Mean Reward: -0.606. Std of Reward: 0.888. Training.\n",
            "[INFO] Pyramids. Step: 480000. Time Elapsed: 977.022 s. Mean Reward: -0.246. Std of Reward: 1.099. Training.\n",
            "[INFO] Exported results/Pyramids Training/Pyramids/Pyramids-499925.onnx\n",
            "[INFO] Exported results/Pyramids Training/Pyramids/Pyramids-500029.onnx\n",
            "[INFO] Copied results/Pyramids Training/Pyramids/Pyramids-500029.onnx to results/Pyramids Training/Pyramids.onnx.\n"
          ]
        }
      ]
    },
    {
      "cell_type": "markdown",
      "source": [
        "## Step 5: Push the agent to the 🤗 Hub\n",
        "\n",
        "Sign in: https://huggingface.co\n",
        "\n",
        "Create a new token (https://huggingface.co/settings/tokens) with write role"
      ],
      "metadata": {
        "id": "nou0qto17_Hm"
      }
    },
    {
      "cell_type": "code",
      "source": [
        "from huggingface_hub import notebook_login\n",
        "notebook_login()"
      ],
      "metadata": {
        "colab": {
          "base_uri": "https://localhost:8080/",
          "height": 327,
          "referenced_widgets": [
            "77f5127437bc4533a4106cad2e7c66e4",
            "8f838e2096274394843a959d48521df4",
            "aa92a9a78b4140a08fb7e16bcbf78acd",
            "2f005049c6d444758e03c9da2c27e8a2",
            "2cc42adda5544167a1db798dd5feb9d9",
            "e23a2cff6a8041b6986a6ecb9177ad36",
            "b664a0f57da5453599a8835b061c7239",
            "cf819ae04cd44295895eb58881e3b99b",
            "c662b9b01437486c8d7559b4137f48c6",
            "0bc813cd79154e57aae959b13ff8e669",
            "2a629bc0a39746dd8ce1ef199c964293",
            "95def42b54bc47fb8194238ae6b43414",
            "064bac56a6ca4af0ad746af442ec4cfc",
            "356e1582e9fe4a12a541604cdd0a59b6"
          ]
        },
        "id": "RSfj9SK18PAN",
        "outputId": "93bacd35-5ad9-4d5a-d4dc-c7fd341f3c04"
      },
      "execution_count": 8,
      "outputs": [
        {
          "output_type": "stream",
          "name": "stdout",
          "text": [
            "Login successful\n",
            "Your token has been saved to /root/.huggingface/token\n",
            "\u001b[1m\u001b[31mAuthenticated through git-credential store but this isn't the helper defined on your machine.\n",
            "You might have to re-authenticate when pushing to the Hugging Face Hub. Run the following command in your terminal in case you want to set this credential helper as the default\n",
            "\n",
            "git config --global credential.helper store\u001b[0m\n"
          ]
        }
      ]
    },
    {
      "cell_type": "code",
      "source": [
        "!mlagents-push-to-hf --run-id=\"Pyramids Training\" --local-dir=\"./results/Pyramids Training\" --repo-id=\"jefsnacker/testpyramidsrnd\" --commit-message=\"First Pyramids\""
      ],
      "metadata": {
        "colab": {
          "base_uri": "https://localhost:8080/"
        },
        "id": "HF1P4zom8Svv",
        "outputId": "1cad66fa-c04e-4caa-ca6a-e0cae7f8c3a5"
      },
      "execution_count": 9,
      "outputs": [
        {
          "output_type": "stream",
          "name": "stdout",
          "text": [
            "Pyramids Training\n",
            "jefsnacker/testpyramidsrnd\n",
            "This function will create a model card and upload your Pyramids Training into HuggingFace Hub. This is a work in progress: If you encounter a bug, please send open an issue\n",
            "REPO NAME:  testpyramidsrnd\n",
            "ORGANIZATION:  jefsnacker\n",
            "/usr/local/lib/python3.7/dist-packages/huggingface_hub/hf_api.py:94: FutureWarning: `name` and `organization` input arguments are deprecated and will be removed in v0.10. Pass `repo_id` instead.\n",
            "  FutureWarning,\n",
            "Cloning https://huggingface.co/jefsnacker/testpyramidsrnd into local empty directory.\n",
            "Upload file Pyramids/Pyramids-499925.pt:   1% 75.3k/8.25M [00:01<01:56, 73.6kB/s]\n",
            "Upload file Pyramids/events.out.tfevents.1659684754.67db6b0c9e54.259.0:   3% 3.34k/126k [00:00<?, ?B/s]\u001b[A\n",
            "\n",
            "Upload file Pyramids.onnx:   0% 3.34k/1.35M [00:00<?, ?B/s]\u001b[A\u001b[A\n",
            "\n",
            "\n",
            "Upload file Pyramids/Pyramids-500029.pt:   0% 3.34k/8.25M [00:00<?, ?B/s]\u001b[A\u001b[A\u001b[A\n",
            "Upload file Pyramids/Pyramids-499925.pt:   6% 491k/8.25M [00:02<00:29, 280kB/s]  \n",
            "\n",
            "Upload file Pyramids.onnx:   8% 107k/1.35M [00:01<00:12, 106kB/s]\u001b[A\u001b[A\n",
            "\n",
            "\n",
            "Upload file Pyramids/Pyramids-500029.pt:   2% 167k/8.25M [00:01<00:50, 168kB/s]\u001b[A\u001b[A\u001b[A\n",
            "\n",
            "Upload file Pyramids/Pyramids-499925.pt:  19% 1.57M/8.25M [00:04<00:14, 478kB/s]\n",
            "\n",
            "Upload file Pyramids.onnx:  75% 1.01M/1.35M [00:03<00:00, 409kB/s]\u001b[A\u001b[A\n",
            "\n",
            "\n",
            "Upload file Pyramids/Pyramids-500029.pt:   4% 351k/8.25M [00:03<01:13, 113kB/s]\u001b[A\u001b[A\u001b[A\n",
            "\n",
            "\n",
            "Upload file Pyramids/Pyramids-499925.pt:  26% 2.14M/8.25M [00:05<00:12, 518kB/s]\n",
            "\n",
            "\n",
            "Upload file Pyramids/Pyramids-499925.pt:  40% 3.29M/8.25M [00:07<00:09, 565kB/s]\n",
            "\n",
            "\n",
            "Upload file Pyramids/Pyramids-499925.pt:  47% 3.87M/8.25M [00:08<00:07, 579kB/s]\n",
            "\n",
            "\n",
            "Upload file Pyramids/Pyramids-499925.pt:  54% 4.43M/8.25M [00:09<00:06, 581kB/s]\n",
            "\n",
            "\n",
            "Upload file Pyramids/Pyramids-500029.pt:  35% 2.86M/8.25M [00:08<00:11, 502kB/s]\u001b[A\u001b[A\u001b[A\n",
            "\n",
            "\n",
            "Upload file Pyramids/Pyramids-499925.pt:  60% 4.98M/8.25M [00:10<00:05, 581kB/s]\n",
            "\n",
            "\n",
            "Upload file Pyramids/Pyramids-499925.pt:  67% 5.54M/8.25M [00:11<00:04, 581kB/s]\n",
            "\n",
            "\n",
            "Upload file Pyramids/Pyramids-499925.pt:  81% 6.65M/8.25M [00:13<00:02, 581kB/s]\n",
            "\n",
            "\n",
            "Upload file Pyramids/Pyramids-499925.pt:  87% 7.19M/8.25M [00:14<00:01, 576kB/s]\n",
            "\n",
            "\n",
            "Upload file Pyramids/Pyramids-499925.pt:  94% 7.73M/8.25M [00:15<00:00, 572kB/s]\n",
            "\n",
            "\n",
            "Upload file Pyramids/Pyramids-500029.pt:  75% 6.16M/8.25M [00:14<00:03, 564kB/s]\u001b[A\u001b[A\u001b[A\n",
            "\n",
            "\n",
            "Upload file Pyramids/Pyramids-500029.pt:  81% 6.72M/8.25M [00:15<00:02, 571kB/s]\u001b[A\u001b[A\u001b[A\n",
            "\n",
            "\n",
            "Upload file Pyramids/Pyramids-500029.pt:  94% 7.76M/8.25M [00:16<00:00, 726kB/s]\u001b[A\u001b[A\u001b[ATo https://huggingface.co/jefsnacker/testpyramidsrnd\n",
            "   dd04d52..0c50251  main -> main\n",
            "\n",
            "WARNING:huggingface_hub.repository:To https://huggingface.co/jefsnacker/testpyramidsrnd\n",
            "   dd04d52..0c50251  main -> main\n",
            "\n",
            "\n",
            "Upload file Pyramids/events.out.tfevents.1659684754.67db6b0c9e54.259.0: 100% 126k/126k [00:18<00:00, 106kB/s]\u001b[A\n",
            "\n",
            "Upload file Pyramids/Pyramids-499925.pt: 100% 8.25M/8.25M [00:20<00:00, 432kB/s]\n",
            "\n",
            "Upload file Pyramids/events.out.tfevents.1659684754.67db6b0c9e54.259.0: 100% 126k/126k [00:19<00:00, 4.98kB/s]\u001b[A\n",
            "Upload file Pyramids/events.out.tfevents.1659684754.67db6b0c9e54.259.0: 100% 126k/126k [00:19<00:00, 6.58kB/s]\n",
            "\n",
            "\n",
            "Upload file Pyramids.onnx: 100% 1.35M/1.35M [00:19<00:00, 55.9kB/s]\u001b[A\u001b[A\n",
            "\n",
            "Upload file Pyramids.onnx: 100% 1.35M/1.35M [00:19<00:00, 74.3kB/s]\n",
            "\n",
            "\n",
            "\n",
            "Upload file Pyramids/Pyramids-500029.pt: 100% 8.25M/8.25M [00:19<00:00, 415kB/s]\u001b[A\u001b[A\u001b[A\n",
            "\n",
            "\n",
            "Upload file Pyramids/Pyramids-500029.pt: 100% 8.25M/8.25M [00:19<00:00, 454kB/s]\n",
            "\n",
            " Your model is pushed to the hub. You can view your model here: https://huggingface.co/jefsnacker/testpyramidsrnd\n"
          ]
        }
      ]
    },
    {
      "cell_type": "markdown",
      "source": [
        "## Step 6: Watch our agent play 👀\n",
        "For this step it’s simple:\n",
        "\n",
        "Go to your repository In Watch Your Agent Play section click on the link: https://huggingface.co/spaces/unity/ML-Agents-Pyramids"
      ],
      "metadata": {
        "id": "efrE8coy8ejD"
      }
    }
  ]
}