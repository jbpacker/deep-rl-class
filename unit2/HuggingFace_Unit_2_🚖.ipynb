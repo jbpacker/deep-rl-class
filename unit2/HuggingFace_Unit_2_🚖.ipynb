{
  "nbformat": 4,
  "nbformat_minor": 0,
  "metadata": {
    "colab": {
      "name": "HuggingFace Unit 2 🚖.ipynb",
      "provenance": [],
      "authorship_tag": "ABX9TyPSU2DKLKErM29EJTW8PyEi",
      "include_colab_link": true
    },
    "kernelspec": {
      "name": "python3",
      "display_name": "Python 3"
    },
    "language_info": {
      "name": "python"
    }
  },
  "cells": [
    {
      "cell_type": "markdown",
      "metadata": {
        "id": "view-in-github",
        "colab_type": "text"
      },
      "source": [
        "<a href=\"https://colab.research.google.com/github/jbpacker/deep-rl-class/blob/main/unit2/HuggingFace_Unit_2_%F0%9F%9A%96.ipynb\" target=\"_parent\"><img src=\"https://colab.research.google.com/assets/colab-badge.svg\" alt=\"Open In Colab\"/></a>"
      ]
    },
    {
      "cell_type": "markdown",
      "source": [
        "\n",
        "# Q-Learning with Taxi-v3 🚕\n",
        "\n",
        "from [hugging face deep rl class unit 2](https://colab.research.google.com/gist/simoninithomas/466c81aa1c2a07dd14793240c6d033c5/q-learning-with-taxi-v3.ipynb#scrollTo=lWYibdun-uDO)\n",
        "\n",
        "[📜 Read the chapter](https://medium.com/@thomassimonini/an-introduction-to-deep-reinforcement-learning-17a565999c0c?source=friends_link&sk=1b1121ae5d9814a09ca38b47abc7dc61) \n",
        "\n",
        "[📹 Watch the chapter](https://youtu.be/q0BiUn5LiBc)\n",
        "\n",
        "- Q-Learning Part 1\n",
        "\n",
        "[📜 Read the chapter](https://medium.com/@thomassimonini/q-learning-lets-create-an-autonomous-taxi-part-1-2-3e8f5e764358)\n",
        "\n",
        "[📹 Watch the chapter](https://youtu.be/230bR2DrbdE)\n",
        "\n",
        "- Q-Learning Part 2\n",
        "\n",
        "[📜 Read the chapter]()"
      ],
      "metadata": {
        "id": "YPoF8cTg4Kwk"
      }
    },
    {
      "cell_type": "code",
      "execution_count": null,
      "metadata": {
        "id": "4y3ybJww368E"
      },
      "outputs": [],
      "source": [
        "!pip install numpy\n",
        "!pip install gym"
      ]
    },
    {
      "cell_type": "code",
      "source": [
        "import numpy as np\n",
        "import gym\n",
        "import random"
      ],
      "metadata": {
        "id": "yNDqeD_74UGZ"
      },
      "execution_count": 3,
      "outputs": []
    },
    {
      "cell_type": "markdown",
      "source": [
        "## Step 1: Create the environment 🕹️\n"
      ],
      "metadata": {
        "id": "trVOUMD84ZA_"
      }
    },
    {
      "cell_type": "code",
      "source": [
        "env = gym.make(\"Taxi-v3\")\n",
        "env.render()"
      ],
      "metadata": {
        "colab": {
          "base_uri": "https://localhost:8080/"
        },
        "id": "8Xsj_JeN4Z96",
        "outputId": "b9d1fc91-ecc8-4a1d-d793-b0e1030dea3f"
      },
      "execution_count": 6,
      "outputs": [
        {
          "output_type": "stream",
          "name": "stdout",
          "text": [
            "+---------+\n",
            "|R: | : :\u001b[35mG\u001b[0m|\n",
            "| :\u001b[43m \u001b[0m| : : |\n",
            "| : : : : |\n",
            "| | : | : |\n",
            "|Y| : |\u001b[34;1mB\u001b[0m: |\n",
            "+---------+\n",
            "\n",
            "there are 500 possible states\n",
            "there are 6 possible actions\n"
          ]
        }
      ]
    },
    {
      "cell_type": "markdown",
      "source": [
        "## Step 2: Create the Q-table and initialize it 🗄️"
      ],
      "metadata": {
        "id": "2tcXy2Uv5UFX"
      }
    },
    {
      "cell_type": "code",
      "source": [
        "state_space = env.observation_space.n\n",
        "action_space = env.action_space.n\n",
        "print(\"there are {} possible states\".format(state_space))\n",
        "print(\"there are {} possible actions\".format(action_space))\n",
        "Q = np.zeros((state_space, action_space))"
      ],
      "metadata": {
        "colab": {
          "base_uri": "https://localhost:8080/"
        },
        "id": "KpIQaMV_5HGQ",
        "outputId": "13f0fbc9-9ece-425c-8ab5-49bcdec1feea"
      },
      "execution_count": 29,
      "outputs": [
        {
          "output_type": "stream",
          "name": "stdout",
          "text": [
            "there are 500 possible states\n",
            "there are 6 possible actions\n"
          ]
        }
      ]
    },
    {
      "cell_type": "markdown",
      "source": [
        "## Step 3: Define the hyperparameters ⚙️"
      ],
      "metadata": {
        "id": "bqVd33jK5PJt"
      }
    },
    {
      "cell_type": "code",
      "source": [
        "total_episodes = 25000        # Total number of training episodes\n",
        "total_test_episodes = 100     # Total number of test episodes\n",
        "max_steps = 200               # Max steps per episode\n",
        "\n",
        "learning_rate = 0.01          # Learning rate\n",
        "gamma = 0.99                  # Discounting rate\n",
        "\n",
        "# Exploration parameters\n",
        "epsilon = 1.0                 # Exploration rate\n",
        "max_epsilon = 1.0             # Exploration probability at start\n",
        "min_epsilon = 0.001            # Minimum exploration probability \n",
        "decay_rate = 0.01             # Exponential decay rate for exploration prob"
      ],
      "metadata": {
        "id": "N4hjbgVy5Pce"
      },
      "execution_count": 9,
      "outputs": []
    },
    {
      "cell_type": "markdown",
      "source": [
        "## Step 4: Define the epsilon-greedy policy 🤖"
      ],
      "metadata": {
        "id": "ZIrxfs5g5bK-"
      }
    },
    {
      "cell_type": "code",
      "source": [
        "def epsilon_greedy_policy(Q, state, epsilon):\n",
        "  if (random.uniform(0,1) > epsilon):\n",
        "    action = np.argmax(Q[state])\n",
        "  else:\n",
        "    action = env.action_space.sample()\n",
        "\n",
        "  return action"
      ],
      "metadata": {
        "id": "7nx0nqDz5gvu"
      },
      "execution_count": 27,
      "outputs": []
    },
    {
      "cell_type": "code",
      "source": [
        "for episode in range(total_episodes):\n",
        "  if episode % 1000 == 1:\n",
        "    print(\"[{}] rew = {}, steps = {}\".format(episode, running_reward, step))\n",
        "  state = env.reset()\n",
        "  step = 0\n",
        "  epsilon = min_epsilon + (max_epsilon - min_epsilon)*np.exp(-decay_rate*episode)\n",
        "\n",
        "  done = False\n",
        "  running_reward = 0\n",
        "  while not done and step <= max_steps:\n",
        "    action = epsilon_greedy_policy(Q, state, epsilon)\n",
        "    next_state, reward, done, _ = env.step(action)\n",
        "    running_reward += reward\n",
        "\n",
        "    q_max_next = np.max(Q[next_state])\n",
        "    td_target = reward + gamma * q_max_next\n",
        "    td_error = td_target - Q[state, action]\n",
        "    Q[state, action] = Q[state, action] + learning_rate * td_error\n",
        "\n",
        "    state = next_state\n",
        "    step += 1\n",
        "\n",
        "env.close()\n"
      ],
      "metadata": {
        "id": "K7mRvxgN5u6f"
      },
      "execution_count": null,
      "outputs": []
    },
    {
      "cell_type": "markdown",
      "source": [
        "## Step 6: Let's watch our autonomous taxi 🚖 "
      ],
      "metadata": {
        "id": "Z_JBbqIL86TE"
      }
    },
    {
      "cell_type": "code",
      "source": [
        "import time\n",
        "rewards = []\n",
        "frames = []\n",
        "\n",
        "episodes = total_test_episodes\n",
        "# episodes = 2\n",
        "\n",
        "for episode in range(episodes):\n",
        "    state = env.reset()\n",
        "    step = 0\n",
        "    done = False\n",
        "    total_rewards = 0\n",
        "    print(\"****************************************************\")\n",
        "    print(\"EPISODE \", episode)\n",
        "    for step in range(max_steps):\n",
        "        # env.render()     \n",
        "        # Take the action (index) that have the maximum expected future reward given that state\n",
        "        action = np.argmax(Q[state][:])\n",
        "        new_state, reward, done, info = env.step(action)\n",
        "        total_rewards += reward\n",
        "        \n",
        "        if done:\n",
        "            rewards.append(total_rewards)\n",
        "            print (\"Score\", total_rewards)\n",
        "            break\n",
        "        state = new_state\n",
        "env.close()\n",
        "print (\"Score over time: \" +  str(sum(rewards)/total_test_episodes))"
      ],
      "metadata": {
        "id": "kdmseS_085sA"
      },
      "execution_count": null,
      "outputs": []
    }
  ]
}