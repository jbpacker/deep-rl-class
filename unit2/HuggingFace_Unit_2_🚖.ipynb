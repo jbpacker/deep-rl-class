{
  "nbformat": 4,
  "nbformat_minor": 0,
  "metadata": {
    "colab": {
      "name": "HuggingFace Unit 2 🚖.ipynb",
      "provenance": [],
      "authorship_tag": "ABX9TyOXlJHmdkHwK+/gG5MYjwA6",
      "include_colab_link": true
    },
    "kernelspec": {
      "name": "python3",
      "display_name": "Python 3"
    },
    "language_info": {
      "name": "python"
    }
  },
  "cells": [
    {
      "cell_type": "markdown",
      "metadata": {
        "id": "view-in-github",
        "colab_type": "text"
      },
      "source": [
        "<a href=\"https://colab.research.google.com/github/jbpacker/deep-rl-class/blob/main/unit2/HuggingFace_Unit_2_%F0%9F%9A%96.ipynb\" target=\"_parent\"><img src=\"https://colab.research.google.com/assets/colab-badge.svg\" alt=\"Open In Colab\"/></a>"
      ]
    },
    {
      "cell_type": "markdown",
      "source": [
        "\n",
        "# Q-Learning with Taxi-v3 🚕\n",
        "\n",
        "from [hugging face deep rl class unit 2](https://colab.research.google.com/gist/simoninithomas/466c81aa1c2a07dd14793240c6d033c5/q-learning-with-taxi-v3.ipynb#scrollTo=lWYibdun-uDO)\n",
        "\n",
        "[📜 Read the chapter](https://medium.com/@thomassimonini/an-introduction-to-deep-reinforcement-learning-17a565999c0c?source=friends_link&sk=1b1121ae5d9814a09ca38b47abc7dc61) \n",
        "\n",
        "[📹 Watch the chapter](https://youtu.be/q0BiUn5LiBc)\n",
        "\n",
        "- Q-Learning Part 1\n",
        "\n",
        "[📜 Read the chapter](https://medium.com/@thomassimonini/q-learning-lets-create-an-autonomous-taxi-part-1-2-3e8f5e764358)\n",
        "\n",
        "[📹 Watch the chapter](https://youtu.be/230bR2DrbdE)\n",
        "\n",
        "- Q-Learning Part 2\n",
        "\n",
        "[📜 Read the chapter]()"
      ],
      "metadata": {
        "id": "YPoF8cTg4Kwk"
      }
    },
    {
      "cell_type": "code",
      "source": [
        "%%capture\n",
        "!pip install pyglet==1.5.1 \n",
        "!apt install python-opengl\n",
        "!apt install ffmpeg\n",
        "!apt install xvfb\n",
        "!pip3 install pyvirtualdisplay\n",
        "\n",
        "# Virtual display\n",
        "from pyvirtualdisplay import Display\n",
        "\n",
        "virtual_display = Display(visible=0, size=(1400, 900))\n",
        "virtual_display.start()"
      ],
      "metadata": {
        "id": "pZIXQi6wefKZ"
      },
      "execution_count": 2,
      "outputs": []
    },
    {
      "cell_type": "code",
      "execution_count": 1,
      "metadata": {
        "id": "4y3ybJww368E"
      },
      "outputs": [],
      "source": [
        "%%capture\n",
        "!pip install git+https://github.com/openai/gym.git # We install gym using git since Taxi-v3 \"rgb_array version\" is not on PyPi release\n",
        "!pip install pygame\n",
        "!pip install numpy\n",
        "\n",
        "!pip install huggingface_hub\n",
        "!pip install pickle5\n",
        "!pip install pyyaml==6.0 # avoid key error metadata"
      ]
    },
    {
      "cell_type": "code",
      "source": [
        "import numpy as np\n",
        "import gym\n",
        "import random\n",
        "import imageio\n",
        "import os\n",
        "import scipy\n",
        "\n",
        "import pickle5 as pickle"
      ],
      "metadata": {
        "id": "yNDqeD_74UGZ"
      },
      "execution_count": 14,
      "outputs": []
    },
    {
      "cell_type": "markdown",
      "source": [
        "For virtual display"
      ],
      "metadata": {
        "id": "9gEWU6xjehI3"
      }
    },
    {
      "cell_type": "markdown",
      "source": [
        "# Taxi"
      ],
      "metadata": {
        "id": "z8I_hswfe-Wm"
      }
    },
    {
      "cell_type": "markdown",
      "source": [
        "## Step 1: Create the environment 🕹️\n"
      ],
      "metadata": {
        "id": "trVOUMD84ZA_"
      }
    },
    {
      "cell_type": "code",
      "source": [
        "env = gym.make(\"Taxi-v3\")\n",
        "env.render()"
      ],
      "metadata": {
        "colab": {
          "base_uri": "https://localhost:8080/"
        },
        "id": "8Xsj_JeN4Z96",
        "outputId": "b9d1fc91-ecc8-4a1d-d793-b0e1030dea3f"
      },
      "execution_count": null,
      "outputs": [
        {
          "output_type": "stream",
          "name": "stdout",
          "text": [
            "+---------+\n",
            "|R: | : :\u001b[35mG\u001b[0m|\n",
            "| :\u001b[43m \u001b[0m| : : |\n",
            "| : : : : |\n",
            "| | : | : |\n",
            "|Y| : |\u001b[34;1mB\u001b[0m: |\n",
            "+---------+\n",
            "\n",
            "there are 500 possible states\n",
            "there are 6 possible actions\n"
          ]
        }
      ]
    },
    {
      "cell_type": "markdown",
      "source": [
        "## Step 2: Create the Q-table and initialize it 🗄️"
      ],
      "metadata": {
        "id": "2tcXy2Uv5UFX"
      }
    },
    {
      "cell_type": "code",
      "source": [
        "state_space = env.observation_space.n\n",
        "action_space = env.action_space.n\n",
        "print(\"there are {} possible states\".format(state_space))\n",
        "print(\"there are {} possible actions\".format(action_space))\n",
        "Q = np.zeros((state_space, action_space))"
      ],
      "metadata": {
        "colab": {
          "base_uri": "https://localhost:8080/"
        },
        "id": "KpIQaMV_5HGQ",
        "outputId": "13f0fbc9-9ece-425c-8ab5-49bcdec1feea"
      },
      "execution_count": null,
      "outputs": [
        {
          "output_type": "stream",
          "name": "stdout",
          "text": [
            "there are 500 possible states\n",
            "there are 6 possible actions\n"
          ]
        }
      ]
    },
    {
      "cell_type": "markdown",
      "source": [
        "## Step 3: Define the hyperparameters ⚙️"
      ],
      "metadata": {
        "id": "bqVd33jK5PJt"
      }
    },
    {
      "cell_type": "code",
      "source": [
        "total_episodes = 25000        # Total number of training episodes\n",
        "total_test_episodes = 100     # Total number of test episodes\n",
        "max_steps = 200               # Max steps per episode\n",
        "\n",
        "learning_rate = 0.01          # Learning rate\n",
        "gamma = 0.99                  # Discounting rate\n",
        "\n",
        "# Exploration parameters\n",
        "epsilon = 1.0                 # Exploration rate\n",
        "max_epsilon = 1.0             # Exploration probability at start\n",
        "min_epsilon = 0.001            # Minimum exploration probability \n",
        "decay_rate = 0.01             # Exponential decay rate for exploration prob"
      ],
      "metadata": {
        "id": "N4hjbgVy5Pce"
      },
      "execution_count": null,
      "outputs": []
    },
    {
      "cell_type": "markdown",
      "source": [
        "## Step 4: Define the epsilon-greedy policy 🤖"
      ],
      "metadata": {
        "id": "ZIrxfs5g5bK-"
      }
    },
    {
      "cell_type": "code",
      "source": [
        "def epsilon_greedy_policy(Q, state, epsilon):\n",
        "  if (random.uniform(0,1) > epsilon):\n",
        "    action = np.argmax(Q[state])\n",
        "  else:\n",
        "    action = env.action_space.sample()\n",
        "\n",
        "  return action"
      ],
      "metadata": {
        "id": "7nx0nqDz5gvu"
      },
      "execution_count": null,
      "outputs": []
    },
    {
      "cell_type": "code",
      "source": [
        "for episode in range(total_episodes):\n",
        "  if episode % 1000 == 1:\n",
        "    print(\"[{}] rew = {}, steps = {}\".format(episode, running_reward, step))\n",
        "  state = env.reset()\n",
        "  step = 0\n",
        "  epsilon = min_epsilon + (max_epsilon - min_epsilon)*np.exp(-decay_rate*episode)\n",
        "\n",
        "  done = False\n",
        "  running_reward = 0\n",
        "  while not done and step <= max_steps:\n",
        "    action = epsilon_greedy_policy(Q, state, epsilon)\n",
        "    next_state, reward, done, _ = env.step(action)\n",
        "    running_reward += reward\n",
        "\n",
        "    q_max_next = np.max(Q[next_state])\n",
        "    td_target = reward + gamma * q_max_next\n",
        "    td_error = td_target - Q[state, action]\n",
        "    Q[state, action] = Q[state, action] + learning_rate * td_error\n",
        "\n",
        "    state = next_state\n",
        "    step += 1\n",
        "\n",
        "env.close()\n"
      ],
      "metadata": {
        "id": "K7mRvxgN5u6f"
      },
      "execution_count": null,
      "outputs": []
    },
    {
      "cell_type": "markdown",
      "source": [
        "## Step 6: Let's watch our autonomous taxi 🚖 "
      ],
      "metadata": {
        "id": "Z_JBbqIL86TE"
      }
    },
    {
      "cell_type": "code",
      "source": [
        "import time\n",
        "rewards = []\n",
        "frames = []\n",
        "\n",
        "episodes = total_test_episodes\n",
        "# episodes = 2\n",
        "\n",
        "for episode in range(episodes):\n",
        "    state = env.reset()\n",
        "    step = 0\n",
        "    done = False\n",
        "    total_rewards = 0\n",
        "    print(\"****************************************************\")\n",
        "    print(\"EPISODE \", episode)\n",
        "    for step in range(max_steps):\n",
        "        # env.render()     \n",
        "        # Take the action (index) that have the maximum expected future reward given that state\n",
        "        action = np.argmax(Q[state][:])\n",
        "        new_state, reward, done, info = env.step(action)\n",
        "        total_rewards += reward\n",
        "        \n",
        "        if done:\n",
        "            rewards.append(total_rewards)\n",
        "            print (\"Score\", total_rewards)\n",
        "            break\n",
        "        state = new_state\n",
        "env.close()\n",
        "print (\"Score over time: \" +  str(sum(rewards)/total_test_episodes))"
      ],
      "metadata": {
        "id": "kdmseS_085sA"
      },
      "execution_count": null,
      "outputs": []
    },
    {
      "cell_type": "markdown",
      "source": [
        "# Frozen Lake"
      ],
      "metadata": {
        "id": "AH3UZJOde6uS"
      }
    },
    {
      "cell_type": "markdown",
      "source": [
        "## Step 1: Create Env"
      ],
      "metadata": {
        "id": "EMjUMFAXfrqW"
      }
    },
    {
      "cell_type": "code",
      "source": [
        "lake_env = gym.make(\"FrozenLake-v1\", map_name=\"4x4\", is_slippery=False)"
      ],
      "metadata": {
        "id": "DmzOuGtRe5j9"
      },
      "execution_count": 6,
      "outputs": []
    },
    {
      "cell_type": "code",
      "source": [
        "lake_env.reset()\n",
        "print(\"Observation Space\", lake_env.observation_space)\n",
        "print(\"Sample observation\", lake_env.observation_space.sample()) # Get a random observation\n",
        "print(\"Action Space\", lake_env.action_space)\n",
        "print(\"Action Sample\", lake_env.action_space.sample())"
      ],
      "metadata": {
        "colab": {
          "base_uri": "https://localhost:8080/"
        },
        "id": "TnEwf3aPft16",
        "outputId": "a459da17-4c05-4552-b681-68db003bfc88"
      },
      "execution_count": 8,
      "outputs": [
        {
          "output_type": "stream",
          "name": "stdout",
          "text": [
            "Observation Space Discrete(16)\n",
            "Sample observation 6\n",
            "Action Space Discrete(4)\n",
            "Action Sample 2\n"
          ]
        }
      ]
    },
    {
      "cell_type": "markdown",
      "source": [
        "## Step 2: Create Q Table"
      ],
      "metadata": {
        "id": "-7Id_g00gDZO"
      }
    },
    {
      "cell_type": "code",
      "source": [
        "lake_Q = np.zeros((lake_env.observation_space.n, lake_env.action_space.n))\n",
        "print(lake_Q.shape)\n",
        "print(lake_Q)"
      ],
      "metadata": {
        "colab": {
          "base_uri": "https://localhost:8080/"
        },
        "id": "mS-yuHTzgJLq",
        "outputId": "578964cf-3792-4661-f16d-d3cacf167e71"
      },
      "execution_count": 12,
      "outputs": [
        {
          "output_type": "stream",
          "name": "stdout",
          "text": [
            "(16, 4)\n",
            "[[0. 0. 0. 0.]\n",
            " [0. 0. 0. 0.]\n",
            " [0. 0. 0. 0.]\n",
            " [0. 0. 0. 0.]\n",
            " [0. 0. 0. 0.]\n",
            " [0. 0. 0. 0.]\n",
            " [0. 0. 0. 0.]\n",
            " [0. 0. 0. 0.]\n",
            " [0. 0. 0. 0.]\n",
            " [0. 0. 0. 0.]\n",
            " [0. 0. 0. 0.]\n",
            " [0. 0. 0. 0.]\n",
            " [0. 0. 0. 0.]\n",
            " [0. 0. 0. 0.]\n",
            " [0. 0. 0. 0.]\n",
            " [0. 0. 0. 0.]]\n"
          ]
        }
      ]
    },
    {
      "cell_type": "markdown",
      "source": [
        "## Step 3: Define policy"
      ],
      "metadata": {
        "id": "vHGQ1Eo9gula"
      }
    },
    {
      "cell_type": "code",
      "source": [
        "# eps % chance of greedy action, otherwise look up argmax in Q\n",
        "def eps_greedy(state, Q, eps):\n",
        "  if (random.random() > eps):\n",
        "    return lake_env.action_space.sample()\n",
        "  else:\n",
        "    return np.argmax(Q[state])"
      ],
      "metadata": {
        "id": "QeeqQLKwg0Gt"
      },
      "execution_count": 17,
      "outputs": []
    },
    {
      "cell_type": "markdown",
      "source": [
        "## Step 4: init"
      ],
      "metadata": {
        "id": "gs0vUrvUiKp3"
      }
    },
    {
      "cell_type": "code",
      "source": [
        "eps_start = 0 # start at totally random, go toward 0 linearly\n",
        "eps_end = 1\n",
        "max_steps = 400\n",
        "epochs = 10000\n",
        "\n",
        "gamma = 0.99\n",
        "# lr = 0.005\n",
        "lr = 0.7\n",
        "\n",
        "eps_interp = scipy.interpolate.interp1d([0, epochs], [eps_start, eps_end])\n",
        "\n",
        "# reset Q table to be certain\n",
        "lake_Q = np.zeros((lake_env.observation_space.n, lake_env.action_space.n))\n"
      ],
      "metadata": {
        "id": "yLezZH6niOr8"
      },
      "execution_count": 62,
      "outputs": []
    },
    {
      "cell_type": "markdown",
      "source": [
        "## Step 5: Train"
      ],
      "metadata": {
        "id": "laY3UgkGpZS0"
      }
    },
    {
      "cell_type": "code",
      "source": [
        "def train(epochs, max_steps, eps_func, env, Q):\n",
        "  # Do the dew\n",
        "  for epoch in range(epochs):\n",
        "    eps = eps_func(epoch) \n",
        "    state = lake_env.reset()\n",
        "    for step in range(max_steps):\n",
        "      # sample action and step\n",
        "      action = eps_greedy(state, Q, eps)\n",
        "      next_state, reward, done, info = lake_env.step(action)\n",
        "\n",
        "      # Update Q\n",
        "      td_target = reward + gamma * np.max(Q[next_state])\n",
        "      td_error = td_target - Q[state, action]\n",
        "      Q[state, action] = Q[state, action] + lr * td_error\n",
        "\n",
        "      if done:\n",
        "        break\n",
        "\n",
        "      state = next_state\n",
        "  return Q\n"
      ],
      "metadata": {
        "id": "pToovTVOiXDN"
      },
      "execution_count": 63,
      "outputs": []
    },
    {
      "cell_type": "code",
      "source": [
        "lake_Q = train(epochs, max_steps, eps_interp, lake_env, lake_Q)\n",
        "print(lake_Q)"
      ],
      "metadata": {
        "colab": {
          "base_uri": "https://localhost:8080/"
        },
        "id": "mXnNeieLomTa",
        "outputId": "741037b3-9387-4280-f88b-44a49bea2584"
      },
      "execution_count": 64,
      "outputs": [
        {
          "output_type": "stream",
          "name": "stdout",
          "text": [
            "[[0.94148015 0.95099005 0.95099005 0.94148015]\n",
            " [0.94148015 0.         0.96059601 0.95099005]\n",
            " [0.95099005 0.970299   0.95099005 0.96059601]\n",
            " [0.96059601 0.         0.95099005 0.95099005]\n",
            " [0.95099005 0.96059601 0.         0.94148015]\n",
            " [0.         0.         0.         0.        ]\n",
            " [0.         0.9801     0.         0.96059601]\n",
            " [0.         0.         0.         0.        ]\n",
            " [0.96059601 0.         0.970299   0.95099005]\n",
            " [0.96059601 0.9801     0.9801     0.        ]\n",
            " [0.970299   0.99       0.         0.970299  ]\n",
            " [0.         0.         0.         0.        ]\n",
            " [0.         0.         0.         0.        ]\n",
            " [0.         0.9801     0.99       0.970299  ]\n",
            " [0.9801     0.99       1.         0.9801    ]\n",
            " [0.         0.         0.         0.        ]]\n"
          ]
        }
      ]
    },
    {
      "cell_type": "markdown",
      "source": [
        "## Step 6: Evaluate"
      ],
      "metadata": {
        "id": "RjddXg4Ppc4V"
      }
    },
    {
      "cell_type": "code",
      "source": [
        "def eval_agent(env, max_steps, epochs, Q, seed = None):\n",
        "  rewards = []\n",
        "  for epoch in range(epochs):\n",
        "    if seed:\n",
        "      state = env.reset(seed=seed[epoch])\n",
        "    else:\n",
        "      state = env.reset()\n",
        "\n",
        "    epoch_rew = 0\n",
        "    \n",
        "    for step in range(max_steps):\n",
        "      action = np.argmax(Q[state])\n",
        "      next_state, reward, done, _ = env.step(action)\n",
        "\n",
        "      epoch_rew += reward\n",
        "\n",
        "      if done:\n",
        "        rewards.append(epoch_rew)\n",
        "        break\n",
        "      state = next_state\n",
        "\n",
        "  print(rewards)\n",
        "  mean_reward = np.mean(rewards)\n",
        "  std_reward = np.std(rewards)\n",
        "  return mean_reward, std_reward"
      ],
      "metadata": {
        "id": "j00IRh94pcTg"
      },
      "execution_count": 60,
      "outputs": []
    },
    {
      "cell_type": "code",
      "source": [
        "mean, std = eval_agent(lake_env, max_steps, 1, lake_Q)\n",
        "print(\"mean: {} std: {}\".format(mean, std))"
      ],
      "metadata": {
        "colab": {
          "base_uri": "https://localhost:8080/"
        },
        "id": "o7EwFns6qWdg",
        "outputId": "6743fa21-f221-4b9d-be00-4c92ba4a0afe"
      },
      "execution_count": 65,
      "outputs": [
        {
          "output_type": "stream",
          "name": "stdout",
          "text": [
            "[1.0]\n",
            "mean: 1.0 std: 0.0\n"
          ]
        }
      ]
    },
    {
      "cell_type": "markdown",
      "source": [
        "## Step 7: Capture"
      ],
      "metadata": {
        "id": "ReNBpV1usMzM"
      }
    },
    {
      "cell_type": "code",
      "source": [
        "%%capture\n",
        "from huggingface_hub import HfApi, HfFolder, Repository\n",
        "from huggingface_hub.repocard import metadata_eval_result, metadata_save\n",
        "\n",
        "from pathlib import Path\n",
        "import datetime\n",
        "import json"
      ],
      "metadata": {
        "id": "LMegaNnxsMNs"
      },
      "execution_count": 66,
      "outputs": []
    },
    {
      "cell_type": "code",
      "source": [
        "def record_video(env, Qtable, out_directory, fps=1):\n",
        "  images = []  \n",
        "  done = False\n",
        "  state = env.reset(seed=random.randint(0,500))\n",
        "  img = env.render(mode='rgb_array')\n",
        "  images.append(img)\n",
        "  while not done:\n",
        "    # Take the action (index) that have the maximum expected future reward given that state\n",
        "    action = np.argmax(Qtable[state][:])\n",
        "    state, reward, done, info = env.step(action) # We directly put next_state = state for recording logic\n",
        "    img = env.render(mode='rgb_array')\n",
        "    images.append(img)\n",
        "  imageio.mimsave(out_directory, [np.array(img) for i, img in enumerate(images)], fps=fps)"
      ],
      "metadata": {
        "id": "8stFIl5ysQYq"
      },
      "execution_count": 67,
      "outputs": []
    },
    {
      "cell_type": "code",
      "source": [
        "video_path =  \"/content/replay.mp4\"\n",
        "record_video(lake_env, lake_Q, video_path, 1)"
      ],
      "metadata": {
        "colab": {
          "base_uri": "https://localhost:8080/"
        },
        "id": "VlZ-RgENs47r",
        "outputId": "5c964751-41c9-4ded-fbdb-0c6bc8273507"
      },
      "execution_count": 69,
      "outputs": [
        {
          "output_type": "stream",
          "name": "stderr",
          "text": [
            "/usr/local/lib/python3.7/dist-packages/imageio/plugins/ffmpeg.py:727: DeprecationWarning: tostring() is deprecated. Use tobytes() instead.\n",
            "  self._proc.stdin.write(im.tostring())\n"
          ]
        }
      ]
    }
  ]
}