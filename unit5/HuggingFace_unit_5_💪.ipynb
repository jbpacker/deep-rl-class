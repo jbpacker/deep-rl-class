{
  "nbformat": 4,
  "nbformat_minor": 0,
  "metadata": {
    "colab": {
      "name": "HuggingFace unit 5 💪.ipynb",
      "provenance": [],
      "collapsed_sections": [],
      "authorship_tag": "ABX9TyPEDoA0+s/jQOh7+8Xf6crP",
      "include_colab_link": true
    },
    "kernelspec": {
      "name": "python3",
      "display_name": "Python 3"
    },
    "language_info": {
      "name": "python"
    },
    "accelerator": "GPU",
    "gpuClass": "standard",
    "widgets": {
      "application/vnd.jupyter.widget-state+json": {
        "8964d6f9375b4cfaa924471557221e21": {
          "model_module": "@jupyter-widgets/controls",
          "model_name": "VBoxModel",
          "model_module_version": "1.5.0",
          "state": {
            "_dom_classes": [],
            "_model_module": "@jupyter-widgets/controls",
            "_model_module_version": "1.5.0",
            "_model_name": "VBoxModel",
            "_view_count": null,
            "_view_module": "@jupyter-widgets/controls",
            "_view_module_version": "1.5.0",
            "_view_name": "VBoxView",
            "box_style": "",
            "children": [
              "IPY_MODEL_6aacfc02e3d34026a5e0fb6fedcf45aa",
              "IPY_MODEL_dd41ad29e6c0476db7d49b29a20187bd"
            ],
            "layout": "IPY_MODEL_7e1ca49a312d4ccbab7126082afe701b"
          }
        },
        "6aacfc02e3d34026a5e0fb6fedcf45aa": {
          "model_module": "@jupyter-widgets/controls",
          "model_name": "LabelModel",
          "model_module_version": "1.5.0",
          "state": {
            "_dom_classes": [],
            "_model_module": "@jupyter-widgets/controls",
            "_model_module_version": "1.5.0",
            "_model_name": "LabelModel",
            "_view_count": null,
            "_view_module": "@jupyter-widgets/controls",
            "_view_module_version": "1.5.0",
            "_view_name": "LabelView",
            "description": "",
            "description_tooltip": null,
            "layout": "IPY_MODEL_66d34e8b38b44db18338820da68b7de9",
            "placeholder": "​",
            "style": "IPY_MODEL_07eec40a89e8419290e04698e1430fd5",
            "value": "0.042 MB of 0.042 MB uploaded (0.000 MB deduped)\r"
          }
        },
        "dd41ad29e6c0476db7d49b29a20187bd": {
          "model_module": "@jupyter-widgets/controls",
          "model_name": "FloatProgressModel",
          "model_module_version": "1.5.0",
          "state": {
            "_dom_classes": [],
            "_model_module": "@jupyter-widgets/controls",
            "_model_module_version": "1.5.0",
            "_model_name": "FloatProgressModel",
            "_view_count": null,
            "_view_module": "@jupyter-widgets/controls",
            "_view_module_version": "1.5.0",
            "_view_name": "ProgressView",
            "bar_style": "",
            "description": "",
            "description_tooltip": null,
            "layout": "IPY_MODEL_40b81824fd9942aa9b604603b949b19c",
            "max": 1,
            "min": 0,
            "orientation": "horizontal",
            "style": "IPY_MODEL_0d18d02260684feab8d11f3573f01e23",
            "value": 1
          }
        },
        "7e1ca49a312d4ccbab7126082afe701b": {
          "model_module": "@jupyter-widgets/base",
          "model_name": "LayoutModel",
          "model_module_version": "1.2.0",
          "state": {
            "_model_module": "@jupyter-widgets/base",
            "_model_module_version": "1.2.0",
            "_model_name": "LayoutModel",
            "_view_count": null,
            "_view_module": "@jupyter-widgets/base",
            "_view_module_version": "1.2.0",
            "_view_name": "LayoutView",
            "align_content": null,
            "align_items": null,
            "align_self": null,
            "border": null,
            "bottom": null,
            "display": null,
            "flex": null,
            "flex_flow": null,
            "grid_area": null,
            "grid_auto_columns": null,
            "grid_auto_flow": null,
            "grid_auto_rows": null,
            "grid_column": null,
            "grid_gap": null,
            "grid_row": null,
            "grid_template_areas": null,
            "grid_template_columns": null,
            "grid_template_rows": null,
            "height": null,
            "justify_content": null,
            "justify_items": null,
            "left": null,
            "margin": null,
            "max_height": null,
            "max_width": null,
            "min_height": null,
            "min_width": null,
            "object_fit": null,
            "object_position": null,
            "order": null,
            "overflow": null,
            "overflow_x": null,
            "overflow_y": null,
            "padding": null,
            "right": null,
            "top": null,
            "visibility": null,
            "width": null
          }
        },
        "66d34e8b38b44db18338820da68b7de9": {
          "model_module": "@jupyter-widgets/base",
          "model_name": "LayoutModel",
          "model_module_version": "1.2.0",
          "state": {
            "_model_module": "@jupyter-widgets/base",
            "_model_module_version": "1.2.0",
            "_model_name": "LayoutModel",
            "_view_count": null,
            "_view_module": "@jupyter-widgets/base",
            "_view_module_version": "1.2.0",
            "_view_name": "LayoutView",
            "align_content": null,
            "align_items": null,
            "align_self": null,
            "border": null,
            "bottom": null,
            "display": null,
            "flex": null,
            "flex_flow": null,
            "grid_area": null,
            "grid_auto_columns": null,
            "grid_auto_flow": null,
            "grid_auto_rows": null,
            "grid_column": null,
            "grid_gap": null,
            "grid_row": null,
            "grid_template_areas": null,
            "grid_template_columns": null,
            "grid_template_rows": null,
            "height": null,
            "justify_content": null,
            "justify_items": null,
            "left": null,
            "margin": null,
            "max_height": null,
            "max_width": null,
            "min_height": null,
            "min_width": null,
            "object_fit": null,
            "object_position": null,
            "order": null,
            "overflow": null,
            "overflow_x": null,
            "overflow_y": null,
            "padding": null,
            "right": null,
            "top": null,
            "visibility": null,
            "width": null
          }
        },
        "07eec40a89e8419290e04698e1430fd5": {
          "model_module": "@jupyter-widgets/controls",
          "model_name": "DescriptionStyleModel",
          "model_module_version": "1.5.0",
          "state": {
            "_model_module": "@jupyter-widgets/controls",
            "_model_module_version": "1.5.0",
            "_model_name": "DescriptionStyleModel",
            "_view_count": null,
            "_view_module": "@jupyter-widgets/base",
            "_view_module_version": "1.2.0",
            "_view_name": "StyleView",
            "description_width": ""
          }
        },
        "40b81824fd9942aa9b604603b949b19c": {
          "model_module": "@jupyter-widgets/base",
          "model_name": "LayoutModel",
          "model_module_version": "1.2.0",
          "state": {
            "_model_module": "@jupyter-widgets/base",
            "_model_module_version": "1.2.0",
            "_model_name": "LayoutModel",
            "_view_count": null,
            "_view_module": "@jupyter-widgets/base",
            "_view_module_version": "1.2.0",
            "_view_name": "LayoutView",
            "align_content": null,
            "align_items": null,
            "align_self": null,
            "border": null,
            "bottom": null,
            "display": null,
            "flex": null,
            "flex_flow": null,
            "grid_area": null,
            "grid_auto_columns": null,
            "grid_auto_flow": null,
            "grid_auto_rows": null,
            "grid_column": null,
            "grid_gap": null,
            "grid_row": null,
            "grid_template_areas": null,
            "grid_template_columns": null,
            "grid_template_rows": null,
            "height": null,
            "justify_content": null,
            "justify_items": null,
            "left": null,
            "margin": null,
            "max_height": null,
            "max_width": null,
            "min_height": null,
            "min_width": null,
            "object_fit": null,
            "object_position": null,
            "order": null,
            "overflow": null,
            "overflow_x": null,
            "overflow_y": null,
            "padding": null,
            "right": null,
            "top": null,
            "visibility": null,
            "width": null
          }
        },
        "0d18d02260684feab8d11f3573f01e23": {
          "model_module": "@jupyter-widgets/controls",
          "model_name": "ProgressStyleModel",
          "model_module_version": "1.5.0",
          "state": {
            "_model_module": "@jupyter-widgets/controls",
            "_model_module_version": "1.5.0",
            "_model_name": "ProgressStyleModel",
            "_view_count": null,
            "_view_module": "@jupyter-widgets/base",
            "_view_module_version": "1.2.0",
            "_view_name": "StyleView",
            "bar_color": null,
            "description_width": ""
          }
        }
      }
    }
  },
  "cells": [
    {
      "cell_type": "markdown",
      "metadata": {
        "id": "view-in-github",
        "colab_type": "text"
      },
      "source": [
        "<a href=\"https://colab.research.google.com/github/jbpacker/deep-rl-class/blob/main/unit5/HuggingFace_unit_5_%F0%9F%92%AA.ipynb\" target=\"_parent\"><img src=\"https://colab.research.google.com/assets/colab-badge.svg\" alt=\"Open In Colab\"/></a>"
      ]
    },
    {
      "cell_type": "markdown",
      "source": [
        "# Unit 5: Code your first Deep Reinforcement Learning Algorithm with PyTorch: Reinforce. And test its robustness 💪\n",
        "\n",
        "link to [original colab](https://colab.research.google.com/github/huggingface/deep-rl-class/blob/main/unit5/unit5.ipynb)\n",
        "\n",
        "🎮 Environments: \n",
        "- [CartPole-v1](https://www.gymlibrary.ml/environments/classic_control/cart_pole/)\n",
        "- [PixelCopter](https://pygame-learning-environment.readthedocs.io/en/latest/user/games/pixelcopter.html)\n",
        "- [Pong](https://pygame-learning-environment.readthedocs.io/en/latest/user/games/pong.html)"
      ],
      "metadata": {
        "id": "qEgrTLYVB1ls"
      }
    },
    {
      "cell_type": "markdown",
      "source": [
        "## get everything ready"
      ],
      "metadata": {
        "id": "vuY-ey8mEsOg"
      }
    },
    {
      "cell_type": "markdown",
      "source": [
        "### Step 1: install libraries"
      ],
      "metadata": {
        "id": "n1g8AqnDFKhJ"
      }
    },
    {
      "cell_type": "code",
      "execution_count": null,
      "metadata": {
        "id": "meyEc8YYAFvX"
      },
      "outputs": [],
      "source": [
        "!apt install python-opengl\n",
        "!apt install ffmpeg\n",
        "!apt install xvfb\n",
        "!pip3 install pyvirtualdisplay\n",
        "\n",
        "# Virtual display\n",
        "from pyvirtualdisplay import Display\n",
        "\n",
        "virtual_display = Display(visible=0, size=(500, 500))\n",
        "virtual_display.start()"
      ]
    },
    {
      "cell_type": "code",
      "source": [
        "!pip install gym\n",
        "!pip install git+https://github.com/ntasfi/PyGame-Learning-Environment.git\n",
        "!pip install git+https://github.com/qlan3/gym-games.git\n",
        "!pip install huggingface_hub\n",
        "!pip install wandb\n",
        "\n",
        "!pip install pyyaml==6.0 # avoid key error metadata\n",
        "\n",
        "!pip install pyglet # Virtual Screen"
      ],
      "metadata": {
        "id": "7-V9r6l7EwLd"
      },
      "execution_count": 2,
      "outputs": []
    },
    {
      "cell_type": "markdown",
      "source": [
        "### Step 2: import packages"
      ],
      "metadata": {
        "id": "ypjCW-fTFMLO"
      }
    },
    {
      "cell_type": "code",
      "source": [
        "import numpy as np\n",
        "from collections import deque\n",
        "import matplotlib.pyplot as plt\n",
        "%matplotlib inline\n",
        "\n",
        "import torch\n",
        "import torch.nn as nn\n",
        "import torch.nn.functional as F\n",
        "import torch.optim as optim\n",
        "from torch.distributions import Categorical\n",
        "\n",
        "import wandb\n",
        "\n",
        "import gym\n",
        "import gym_pygame\n",
        "\n",
        "from huggingface_hub import notebook_login # To log to our Hugging Face account to be able to upload models to the Hub.\n",
        "\n",
        "import imageio"
      ],
      "metadata": {
        "id": "XtkJaB0sE7lA"
      },
      "execution_count": 3,
      "outputs": []
    },
    {
      "cell_type": "markdown",
      "source": [
        "will print the device to be used"
      ],
      "metadata": {
        "id": "aRntyIXBFO4B"
      }
    },
    {
      "cell_type": "code",
      "source": [
        "device = torch.device(\"cuda:0\" if torch.cuda.is_available() else \"cpu\")\n",
        "print(device)"
      ],
      "metadata": {
        "colab": {
          "base_uri": "https://localhost:8080/"
        },
        "id": "QKYKtRNvE-bt",
        "outputId": "7673cee4-1a1e-4727-d534-5b5b3b99b3d2"
      },
      "execution_count": 4,
      "outputs": [
        {
          "output_type": "stream",
          "name": "stdout",
          "text": [
            "cuda:0\n"
          ]
        }
      ]
    },
    {
      "cell_type": "markdown",
      "source": [
        "## Build Architecture"
      ],
      "metadata": {
        "id": "azRPyTwAFWYP"
      }
    },
    {
      "cell_type": "markdown",
      "source": [
        "### Step 3: Create the CartPole environment and understand how it works\n",
        "#### [The environment 🎮](https://www.gymlibrary.ml/environments/classic_control/cart_pole/)"
      ],
      "metadata": {
        "id": "-68RaZecFTpd"
      }
    },
    {
      "cell_type": "code",
      "source": [
        "env_id = \"CartPole-v1\"\n",
        "env = gym.make(env_id)"
      ],
      "metadata": {
        "id": "lB6JBYsbFjlA"
      },
      "execution_count": 5,
      "outputs": []
    },
    {
      "cell_type": "markdown",
      "source": [
        "### Build Model\n",
        "\n",
        "fully connected nn obs input and action output"
      ],
      "metadata": {
        "id": "pjJasbwSGy2V"
      }
    },
    {
      "cell_type": "code",
      "source": [
        "class PolicyNetwork(nn.Module):\n",
        "    def __init__(self, num_obs, num_act):\n",
        "        super(PolicyNetwork, self).__init__()\n",
        "        \n",
        "        self.num_obs = num_obs\n",
        "        self.num_act = num_act\n",
        "\n",
        "        self.l1 = nn.Linear(num_obs, 128)\n",
        "        self.dropout = nn.Dropout(p=0.6)\n",
        "        self.l2 = nn.Linear(128, num_act)\n",
        "\n",
        "    def forward(self, x):\n",
        "        x = self.l1(x)\n",
        "        x = self.dropout(x)\n",
        "        x = F.relu(x)\n",
        "        action_scores = self.l2(x)\n",
        "        action_probs = F.softmax(action_scores, dim=1)\n",
        "\n",
        "        return action_probs\n",
        "\n",
        "    def act(self, state):\n",
        "        \"\"\"\n",
        "        Given a state, take action\n",
        "        \"\"\"\n",
        "        state = torch.from_numpy(state).float().unsqueeze(0)\n",
        "        probs = self.forward(state)\n",
        "        m = Categorical(probs)\n",
        "        action = m.sample()\n",
        "        return action.item(), m.log_prob(action)"
      ],
      "metadata": {
        "id": "UpBN4q--G9Vi"
      },
      "execution_count": 6,
      "outputs": []
    },
    {
      "cell_type": "markdown",
      "source": [
        "## Build the Reinforce Training Algorithm\n",
        "\n",
        "Start with loop that collects an episode and saves it into a replay buffer"
      ],
      "metadata": {
        "id": "pWQTckwfG87F"
      }
    },
    {
      "cell_type": "code",
      "source": [
        "def generate_episode_data(policy):\n",
        "    data = [\n",
        "            np.empty((0, policy.num_obs), dtype=np.float32), # obs\n",
        "            np.empty((0, 1), dtype=np.float32), # action\n",
        "            np.empty((0, 1), dtype=np.float32), # reward\n",
        "            np.empty((0, 1), dtype=bool),  # done\n",
        "            np.empty((0, policy.num_obs), dtype=np.float32), # next_obs\n",
        "            ] \n",
        "\n",
        "    log_prob = []\n",
        "\n",
        "    state = env.reset()\n",
        "    done = False\n",
        "    reward = 0\n",
        "\n",
        "    while not done:\n",
        "        action, lp = policy.act(state)\n",
        "        log_prob.append(lp)\n",
        "        data[0] = np.append(data[0], np.reshape(state, (1,-1)), axis=0)\n",
        "        data[1] = np.append(data[1], np.reshape(action, (1,-1)), axis=0)\n",
        "        data[2] = np.append(data[2], np.reshape(reward, (1,-1)), axis=0)\n",
        "        data[3] = np.append(data[3], np.reshape(done, (1,-1)), axis=0)\n",
        "\n",
        "        state, reward, done, info = env.step(action)\n",
        "\n",
        "        data[4] = np.append(data[4], np.reshape(state, (1,-1)), axis=0)\n",
        "\n",
        "    # The final replay buffer idx won't have a \"next_state\" or \"action\"\n",
        "    data[0] = np.append(data[0], np.reshape(state, (1,-1)), axis=0)\n",
        "    data[2] = np.append(data[2], np.reshape(reward, (1,-1)), axis=0)\n",
        "    data[3] = np.append(data[3], np.reshape(done, (1,-1)), axis=0)\n",
        "\n",
        "    return data, log_prob\n",
        "\n",
        "## Debug printing\n",
        "# data, _ = generate_episode_data(policy)\n",
        "# for i in range(5):\n",
        "#     print(len(data[i]))\n",
        "# print(data)\n"
      ],
      "metadata": {
        "id": "W8y51ePjQPhD"
      },
      "execution_count": 7,
      "outputs": []
    },
    {
      "cell_type": "markdown",
      "source": [
        "Next a function that takes the replay buffer and calculates cumulative reward"
      ],
      "metadata": {
        "id": "NY378FstV3r4"
      }
    },
    {
      "cell_type": "code",
      "source": [
        "def find_cumulative_reward(data, gamma):\n",
        "    num_states = len(data[0])\n",
        "    cumulative_reward = np.empty((num_states, 1), dtype=np.float32)\n",
        "    cumulative_reward[num_states - 1] = data[2][num_states - 1]\n",
        "    for i in reversed(range(num_states-1)):\n",
        "        cumulative_reward[i] = data[2][i] + gamma * cumulative_reward[i + 1]\n",
        "\n",
        "    return cumulative_reward\n",
        "\n",
        "## For debugging\n",
        "# gamma = 0.99\n",
        "# data, _ = generate_episode_data(policy)\n",
        "# R = find_cumulative_reward(data, gamma)\n",
        "\n",
        "# for i in range(len(data[2])):\n",
        "#     print(\"[{}] r: {} cr: {}\".format(i, data[2][i], R[i]))"
      ],
      "metadata": {
        "id": "0u5dTE7eWbVA"
      },
      "execution_count": 8,
      "outputs": []
    },
    {
      "cell_type": "markdown",
      "source": [
        "**Notes:**\n",
        "\n",
        "In the huggingface class G(t) is only calculated for the entire episode. Here we calculate G(t) for each state in the episode and sum them together.\n",
        "\n",
        "This trick is then used to increase performance found [in the pytorch reinforce implementation](https://github.com/pytorch/examples/blob/main/reinforcement_learning/reinforce.py)\n",
        "```\n",
        "R(t) = G(t) - mean(G(t)) / std(G(t))\n",
        "```\n"
      ],
      "metadata": {
        "id": "bzlz5kvf8Qgo"
      }
    },
    {
      "cell_type": "code",
      "source": [
        "def train_single_episode(optimizer, policy):\n",
        "    data, log_prob = generate_episode_data(policy)\n",
        "    R = find_cumulative_reward(data, gamma)\n",
        "\n",
        "    policy_losses = []\n",
        "    R = torch.tensor(R)\n",
        "\n",
        "    # This comes from the pytorch reinforce example\n",
        "    # https://github.com/pytorch/examples/blob/main/reinforcement_learning/reinforce.py\n",
        "    R = (R - R.mean()) / (R.std() + eps)\n",
        "    for r, l_p in zip(R, log_prob):\n",
        "        # Weird for me here that \n",
        "        policy_losses.append(-l_p * r)\n",
        "    \n",
        "    optimizer.zero_grad()\n",
        "    # Note here that div by the len seems to degrade performance\n",
        "    policy_loss = torch.cat(policy_losses).sum()# / len(data[0])\n",
        "\n",
        "    if log:\n",
        "        wandb.log({\"loss\": policy_loss})\n",
        "        wandb.log({\"reward sum\": np.sum(data[2])})\n",
        "        wandb.log({\"episode length\": len(data[0])})\n",
        "\n",
        "    policy_loss.backward()\n",
        "    optimizer.step()\n",
        "\n",
        "    tensor_obs = torch.from_numpy(data[0])\n",
        "\n",
        "\n",
        "## Debug - Single Step\n",
        "# env_id = \"CartPole-v1\"\n",
        "# env = gym.make(env_id)\n",
        "\n",
        "# num_obs = env.observation_space.shape[0]\n",
        "# num_act = env.action_space.n\n",
        "\n",
        "# policy = PolicyNetwork(num_obs, num_act)\n",
        "# optimizer = optim.Adam(policy.parameters(), lr=1e-2)\n",
        "# # eps = np.finfo(np.float32).eps.item()\n",
        "\n",
        "# train_single_episode(optimizer, policy)"
      ],
      "metadata": {
        "id": "3p7jLTIwcyuw"
      },
      "execution_count": 17,
      "outputs": []
    },
    {
      "cell_type": "code",
      "source": [
        "def record_video(env, policy, out_directory, fps=30):\n",
        "    images = []  \n",
        "    done = False\n",
        "    state = env.reset()\n",
        "    img = env.render(mode='rgb_array')\n",
        "    images.append(img)\n",
        "    while not done:\n",
        "        # Take the action (index) that have the maximum expected future reward given that state\n",
        "        action, _ = policy.act(state)\n",
        "        state, reward, done, info = env.step(action) # We directly put next_state = state for recording logic\n",
        "        img = env.render(mode='rgb_array')\n",
        "        images.append(img)\n",
        "    imageio.mimsave(out_directory, [np.array(img) for i, img in enumerate(images)], fps=fps)\n",
        "    wandb.log({\"video\": wandb.Video(out_directory, fps=fps)})\n",
        "\n",
        "# env_id = \"CartPole-v1\"\n",
        "# env = gym.make(env_id)\n",
        "# policy = PolicyNetwork(num_obs, num_act)\n",
        "# record_video(env, policy, \"/home/out.gif\", fps=30)"
      ],
      "metadata": {
        "id": "BMFmPTn3CZTZ"
      },
      "execution_count": 10,
      "outputs": []
    },
    {
      "cell_type": "code",
      "source": [
        "def train(env_id, policy_cls):\n",
        "    if log: \n",
        "        name = \"reinforce_\" + env_id\n",
        "        wandb.init(project=name)\n",
        "    env = gym.make(env_id)\n",
        "\n",
        "    num_obs = env.observation_space.shape[0]\n",
        "    num_act = env.action_space.n\n",
        "\n",
        "    policy = policy_cls(num_obs, num_act)\n",
        "\n",
        "    if log: \n",
        "        wandb.watch(policy, log_freq=1)  \n",
        "\n",
        "    optimizer = optim.Adam(policy.parameters(), lr=lr)\n",
        "    # eps = np.finfo(np.float32).eps.item()\n",
        "\n",
        "    for i in range(1, steps):\n",
        "        # print(i)\n",
        "        if log:\n",
        "            wandb.log({\"epoch\": i})\n",
        "        train_single_episode(optimizer, policy)\n",
        "\n",
        "        if log and i % 50 == 0:\n",
        "            record_video(env, policy, \"/home/out.mp4\", fps=30)"
      ],
      "metadata": {
        "id": "za99UPdKICS9"
      },
      "execution_count": 20,
      "outputs": []
    },
    {
      "cell_type": "code",
      "source": [
        "# Discount factor\n",
        "gamma = 0.99\n",
        "steps = 500\n",
        "lr = 1e-3\n",
        "\n",
        "log = True\n",
        "eps = np.finfo(np.float32).eps.item()"
      ],
      "metadata": {
        "id": "W4--3IgQycPk"
      },
      "execution_count": 12,
      "outputs": []
    },
    {
      "cell_type": "code",
      "source": [
        "env_id = \"CartPole-v1\"\n",
        "train(env_id, PolicyNetwork)"
      ],
      "metadata": {
        "id": "VeNGLp4AyOY1"
      },
      "execution_count": null,
      "outputs": []
    },
    {
      "cell_type": "markdown",
      "source": [
        "## Let's try pong and pixelcopter!\n",
        "\n",
        "seems like I'm coming up against a sparse rewards problem here, and it's having a hard time making it past the first few states."
      ],
      "metadata": {
        "id": "A04kMzDVIza6"
      }
    },
    {
      "cell_type": "code",
      "source": [
        "class PongPolicyNetwork(nn.Module):\n",
        "    def __init__(self, num_obs, num_act):\n",
        "        super(PongPolicyNetwork, self).__init__()\n",
        "\n",
        "        self.num_obs = num_obs\n",
        "        self.num_act = num_act\n",
        "\n",
        "        self.dropout1 = nn.Dropout(p=0.4)\n",
        "        self.dropout2 = nn.Dropout(p=0.3)\n",
        "        self.l1 = nn.Linear(self.num_obs, 256)\n",
        "        self.l2 = nn.Linear(256, 512)\n",
        "        self.l3 = nn.Linear(512, num_act)\n",
        "\n",
        "    def forward(self, x):\n",
        "        x = self.l1(x)\n",
        "        x = self.dropout1(x)\n",
        "        x = F.relu(x)\n",
        "        x = self.l2(x)\n",
        "        x = self.dropout2(x)\n",
        "        x = F.relu(x)\n",
        "        action_scores = self.l3(x)\n",
        "        action_probs = F.softmax(action_scores, dim=1)\n",
        "\n",
        "        return action_probs\n",
        "\n",
        "    def act(self, state):\n",
        "        \"\"\"\n",
        "        Given a state, take action\n",
        "        \"\"\"\n",
        "        state = torch.from_numpy(state).float().unsqueeze(0)\n",
        "        probs = self.forward(state)\n",
        "        m = Categorical(probs)\n",
        "        action = m.sample()\n",
        "        return action.item(), m.log_prob(action)\n",
        "\n",
        "# Discount factor\n",
        "gamma = 0.99\n",
        "steps = 1000\n",
        "lr = 5e-3\n",
        "\n",
        "env_id = \"Pixelcopter-PLE-v0\"\n",
        "train(env_id, PongPolicyNetwork)"
      ],
      "metadata": {
        "colab": {
          "base_uri": "https://localhost:8080/",
          "height": 406,
          "referenced_widgets": [
            "8964d6f9375b4cfaa924471557221e21",
            "6aacfc02e3d34026a5e0fb6fedcf45aa",
            "dd41ad29e6c0476db7d49b29a20187bd",
            "7e1ca49a312d4ccbab7126082afe701b",
            "66d34e8b38b44db18338820da68b7de9",
            "07eec40a89e8419290e04698e1430fd5",
            "40b81824fd9942aa9b604603b949b19c",
            "0d18d02260684feab8d11f3573f01e23"
          ]
        },
        "id": "y-eDp4hwI15o",
        "outputId": "a7e3d1ec-b050-4d5f-9234-484a2586ae93"
      },
      "execution_count": 22,
      "outputs": [
        {
          "output_type": "display_data",
          "data": {
            "text/plain": [
              "<IPython.core.display.HTML object>"
            ],
            "text/html": [
              "Finishing last run (ID:2luuuyud) before initializing another..."
            ]
          },
          "metadata": {}
        },
        {
          "output_type": "display_data",
          "data": {
            "text/plain": [
              "<IPython.core.display.HTML object>"
            ],
            "text/html": [
              "Waiting for W&B process to finish... <strong style=\"color:green\">(success).</strong>"
            ]
          },
          "metadata": {}
        },
        {
          "output_type": "display_data",
          "data": {
            "text/plain": [
              "VBox(children=(Label(value='0.030 MB of 0.030 MB uploaded (0.000 MB deduped)\\r'), FloatProgress(value=1.0, max…"
            ],
            "application/vnd.jupyter.widget-view+json": {
              "version_major": 2,
              "version_minor": 0,
              "model_id": "8964d6f9375b4cfaa924471557221e21"
            }
          },
          "metadata": {}
        },
        {
          "output_type": "display_data",
          "data": {
            "text/plain": [
              "<IPython.core.display.HTML object>"
            ],
            "text/html": [
              "<style>\n",
              "    table.wandb td:nth-child(1) { padding: 0 10px; text-align: left ; width: auto;} td:nth-child(2) {text-align: left ; width: 100%}\n",
              "    .wandb-row { display: flex; flex-direction: row; flex-wrap: wrap; justify-content: flex-start; width: 100% }\n",
              "    .wandb-col { display: flex; flex-direction: column; flex-basis: 100%; flex: 1; padding: 10px; }\n",
              "    </style>\n",
              "<div class=\"wandb-row\"><div class=\"wandb-col\"><h3>Run history:</h3><br/><table class=\"wandb\"><tr><td>episode length</td><td>█▂▂▂▂▁▂▂▂▂▂▂▂▂▂▂▂▁▂▂▂▂▂▂▂▁▂▂▂▁▁▂▂▂▁▂▂▂▂▂</td></tr><tr><td>epoch</td><td>▁▁▁▂▂▂▂▂▂▃▃▃▃▃▄▄▄▄▄▄▅▅▅▅▅▅▆▆▆▆▆▇▇▇▇▇▇███</td></tr><tr><td>loss</td><td>▁███████████████████████████████████████</td></tr><tr><td>reward sum</td><td>█▃▁▁▁▁▁▁▁▁▃▃▃▁▁▁▃▁▁▃▁▁▃▃▃▁▃▁▃▁▁▁▃▃▁▃▁▁▃▁</td></tr></table><br/></div><div class=\"wandb-col\"><h3>Run summary:</h3><br/><table class=\"wandb\"><tr><td>episode length</td><td>23</td></tr><tr><td>epoch</td><td>499</td></tr><tr><td>loss</td><td>0.0</td></tr><tr><td>reward sum</td><td>-2.0</td></tr></table><br/></div></div>"
            ]
          },
          "metadata": {}
        },
        {
          "output_type": "display_data",
          "data": {
            "text/plain": [
              "<IPython.core.display.HTML object>"
            ],
            "text/html": [
              "Synced <strong style=\"color:#cdcd00\">fluent-plant-8</strong>: <a href=\"https://wandb.ai/jefsnacker/reinforce_Pixelcopter-PLE-v0/runs/2luuuyud\" target=\"_blank\">https://wandb.ai/jefsnacker/reinforce_Pixelcopter-PLE-v0/runs/2luuuyud</a><br/>Synced 5 W&B file(s), 9 media file(s), 0 artifact file(s) and 0 other file(s)"
            ]
          },
          "metadata": {}
        },
        {
          "output_type": "display_data",
          "data": {
            "text/plain": [
              "<IPython.core.display.HTML object>"
            ],
            "text/html": [
              "Find logs at: <code>./wandb/run-20220805_134825-2luuuyud/logs</code>"
            ]
          },
          "metadata": {}
        },
        {
          "output_type": "display_data",
          "data": {
            "text/plain": [
              "<IPython.core.display.HTML object>"
            ],
            "text/html": [
              "Successfully finished last run (ID:2luuuyud). Initializing new run:<br/>"
            ]
          },
          "metadata": {}
        },
        {
          "output_type": "display_data",
          "data": {
            "text/plain": [
              "<IPython.core.display.HTML object>"
            ],
            "text/html": [
              "Tracking run with wandb version 0.13.0"
            ]
          },
          "metadata": {}
        },
        {
          "output_type": "display_data",
          "data": {
            "text/plain": [
              "<IPython.core.display.HTML object>"
            ],
            "text/html": [
              "Run data is saved locally in <code>/content/wandb/run-20220805_134937-ibot6f7b</code>"
            ]
          },
          "metadata": {}
        },
        {
          "output_type": "display_data",
          "data": {
            "text/plain": [
              "<IPython.core.display.HTML object>"
            ],
            "text/html": [
              "Syncing run <strong><a href=\"https://wandb.ai/jefsnacker/reinforce_Pixelcopter-PLE-v0/runs/ibot6f7b\" target=\"_blank\">solar-meadow-9</a></strong> to <a href=\"https://wandb.ai/jefsnacker/reinforce_Pixelcopter-PLE-v0\" target=\"_blank\">Weights & Biases</a> (<a href=\"https://wandb.me/run\" target=\"_blank\">docs</a>)<br/>"
            ]
          },
          "metadata": {}
        },
        {
          "output_type": "stream",
          "name": "stdout",
          "text": [
            "obs: 7 act: 2\n"
          ]
        }
      ]
    }
  ]
}